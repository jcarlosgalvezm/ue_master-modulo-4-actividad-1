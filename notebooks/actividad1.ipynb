{
 "cells": [
  {
   "cell_type": "markdown",
   "metadata": {
    "id": "V16B7NMFcsa5"
   },
   "source": [
    "![uelogo2.png](attachment:uelogo2.png)\n",
    "# <font color=#444444> Proyecto Parte I - Ciclo de Vida de los Modelos </font>\n",
    "### <font color=#999999> Postgrado Onlie IA y Data Science 2020-2021 </font>  \n",
    "**PROFESOR**: \n",
    "**David Kremer García**\n",
    "\n",
    "Este notebook sirve de guía para el desarrollo del proyecto del módulo de Ciclo de Vida de los Modelos. "
   ]
  },
  {
   "cell_type": "markdown",
   "metadata": {
    "id": "Tjb4hSa8csbE"
   },
   "source": [
    "# MNIST \n",
    "El set de datos de MNIST (Modified National Institute of Standards and Technology) es muy conocido en problemas de tratamiento y clasificación de imágenes con Machine Learning y Deep Learning y sirve como problema de prueba con el que se desarrollan y miden la mayoría de los algoritmos de clasificación de imágenes.\n",
    "\n",
    "Consite en un set de imágenes con dígitos escritos a mano. Cada imagen, en blanco y negro y de 28x28 píxeles, contiene un dígito del 0 al 9, y está anotada (está identificado el dígito que contiene). \n",
    "\n",
    "![image.png](attachment:image.png)\n",
    "\n",
    "El problema consiste en identificar, dada una imagen, a cual de los dígitos corresponde (es un problema de clasificación). El set de datos contiene 70.000 imágenes de dígitos escritos a mano, separadas en 60.000 de training y 10.000 de testing."
   ]
  },
  {
   "cell_type": "code",
   "execution_count": 1,
   "metadata": {},
   "outputs": [
    {
     "name": "stdout",
     "output_type": "stream",
     "text": [
      "Requirement already satisfied: skorch in /home/Tiendeo/.envs/ue_master/lib/python3.8/site-packages (0.10.0)\r\n",
      "Requirement already satisfied: numpy>=1.13.3 in /home/Tiendeo/.envs/ue_master/lib/python3.8/site-packages (from skorch) (1.20.2)\r\n",
      "Requirement already satisfied: tqdm>=4.14.0 in /home/Tiendeo/.envs/ue_master/lib/python3.8/site-packages (from skorch) (4.56.0)\r\n",
      "Requirement already satisfied: scipy>=1.1.0 in /home/Tiendeo/.envs/ue_master/lib/python3.8/site-packages (from skorch) (1.6.0)\r\n",
      "Requirement already satisfied: scikit-learn>=0.19.1 in /home/Tiendeo/.envs/ue_master/lib/python3.8/site-packages (from skorch) (0.24.1)\r\n",
      "Requirement already satisfied: tabulate>=0.7.7 in /home/Tiendeo/.envs/ue_master/lib/python3.8/site-packages (from skorch) (0.8.9)\r\n",
      "Requirement already satisfied: joblib>=0.11 in /home/Tiendeo/.envs/ue_master/lib/python3.8/site-packages (from scikit-learn>=0.19.1->skorch) (1.0.0)\r\n",
      "Requirement already satisfied: threadpoolctl>=2.0.0 in /home/Tiendeo/.envs/ue_master/lib/python3.8/site-packages (from scikit-learn>=0.19.1->skorch) (2.1.0)\r\n"
     ]
    }
   ],
   "source": [
    "!pip install skorch"
   ]
  },
  {
   "cell_type": "code",
   "execution_count": 270,
   "metadata": {
    "id": "chY7yoshcsbF"
   },
   "outputs": [],
   "source": [
    "import math\n",
    "import matplotlib.pyplot as plt\n",
    "import matplotlib as mpl\n",
    "import os\n",
    "import numpy as np\n",
    "import pickle as pkl\n",
    "import pandas as pd\n",
    "import random\n",
    "import seaborn as sns\n",
    "import skimage\n",
    "import torch\n",
    "import torch.nn as nn\n",
    "import torchvision.datasets as datasets\n",
    "\n",
    "\n",
    "from collections import defaultdict\n",
    "from copy import deepcopy\n",
    "from PIL import Image\n",
    "from scipy import ndimage\n",
    "from skimage import io\n",
    "from skimage import transform, filters\n",
    "from skimage.feature import hog\n",
    "from sklearn.base import BaseEstimator, TransformerMixin\n",
    "from sklearn.pipeline import make_pipeline, Pipeline\n",
    "from sklearn.metrics import accuracy_score, confusion_matrix, classification_report\n",
    "from sklearn.model_selection import GridSearchCV, cross_validate\n",
    "from sklearn.ensemble import RandomForestClassifier\n",
    "from sklearn.linear_model import LogisticRegression\n",
    "from sklearn.svm import SVC\n",
    "from sklearn.dummy import DummyClassifier\n",
    "from skorch import NeuralNetClassifier\n",
    "from torch.utils.data import Dataset\n",
    "from tqdm.auto import tqdm"
   ]
  },
  {
   "cell_type": "code",
   "execution_count": 3,
   "metadata": {
    "id": "39wUpzMecsbH"
   },
   "outputs": [],
   "source": [
    "%matplotlib inline\n",
    "\n",
    "RANDOM_STATE = 288\n",
    "DEVICE = 'cuda' if torch.cuda.is_available() else 'cpu'\n",
    "\n",
    "np.random.seed(RANDOM_STATE)\n",
    "mpl.rc(\"figure\", figsize=(12, 12))"
   ]
  },
  {
   "cell_type": "markdown",
   "metadata": {
    "id": "eBkBTMHdcsbI"
   },
   "source": [
    "# 1. Carga, visualización/exploración y reescalado de las imágenes (2 puntos)\n",
    "\n",
    "Las imágenes están almacenadas en formato pickle. Antes de desarrollar el modelo, al igual que hemos hecho en ejercicios anteriores, hay que cargar los datos y conviene hacer una exploración y visualización de las imágenes.\n",
    "\n",
    "Este apartado consiste en:\n",
    " - Cargar las imágenes desde el pickle y comprobar el número de filas y resolución del dataset\n",
    " - Visualizar una serie de imágenes\n",
    " - Reescalar las imágenes para que los valores de los datos estén entre -0.5 y 0.5"
   ]
  },
  {
   "cell_type": "markdown",
   "metadata": {},
   "source": [
    "A fin de en el futuro no tener que incluir los datasets en un repo de git, las obtendremos vía online mediante **torchvision**."
   ]
  },
  {
   "cell_type": "code",
   "execution_count": 4,
   "metadata": {},
   "outputs": [
    {
     "data": {
      "text/plain": [
       "(Dataset MNIST\n",
       "     Number of datapoints: 60000\n",
       "     Root location: ./data\n",
       "     Split: Train,\n",
       " Dataset MNIST\n",
       "     Number of datapoints: 10000\n",
       "     Root location: ./data\n",
       "     Split: Test)"
      ]
     },
     "execution_count": 4,
     "metadata": {},
     "output_type": "execute_result"
    }
   ],
   "source": [
    "MNIST_TRAIN = datasets.MNIST(root='./data', train=True, download=True, transform=None)\n",
    "MNIST_TEST = datasets.MNIST(root='./data', train=False, download=True, transform=None)\n",
    "MNIST_TRAIN, MNIST_TEST"
   ]
  },
  {
   "cell_type": "code",
   "execution_count": 5,
   "metadata": {},
   "outputs": [],
   "source": [
    "tX_train, ty_train = MNIST_TRAIN.data[:].float(), MNIST_TRAIN.targets[:]\n",
    "tX_test, ty_test = MNIST_TEST.data[:].float(), MNIST_TEST.targets[:]"
   ]
  },
  {
   "cell_type": "code",
   "execution_count": 6,
   "metadata": {
    "colab": {
     "base_uri": "https://localhost:8080/"
    },
    "id": "Ouj2ebN1gQbP",
    "outputId": "5e9b1034-bc0f-47d9-b317-81ec48b26a2c"
   },
   "outputs": [
    {
     "name": "stdout",
     "output_type": "stream",
     "text": [
      "(60000, 28, 28) (60000,) (255.0, 0.0)\n"
     ]
    }
   ],
   "source": [
    "X_train, y_train = tX_train.numpy(), ty_train.numpy()\n",
    "print(X_train.shape, y_train.shape, (X_train.max(), X_train.min()))"
   ]
  },
  {
   "cell_type": "markdown",
   "metadata": {
    "id": "9cfBPj2t7FYH"
   },
   "source": [
    "El conjunto de entrenamiento contiene 60000 imágenes, es decir 60000 rows, y estas constan de una de resolución de 28x28 $px$. Además vemos que se trata de imágenes monocanal por lo que no será necesario realizar ninguna transformación en este aspecto."
   ]
  },
  {
   "cell_type": "code",
   "execution_count": 7,
   "metadata": {
    "id": "wTmzRbiltqul"
   },
   "outputs": [],
   "source": [
    "def plot_img_sample_grid(data, size: int, labels: np.ndarray):\n",
    "    nrows = ncols = size\n",
    "    nsamples = nrows * ncols\n",
    "    for i in range(nsamples):\n",
    "        plt.subplot(nrows, ncols, (i+1))\n",
    "        plt.imshow(data[i], cmap=plt.get_cmap('gray'))\n",
    "        plt.axis('off')\n",
    "        plt.title(labels[i])\n",
    "    plt.show()\n"
   ]
  },
  {
   "cell_type": "code",
   "execution_count": 8,
   "metadata": {
    "colab": {
     "base_uri": "https://localhost:8080/",
     "height": 699
    },
    "id": "sdILxnpC7TbU",
    "outputId": "de980f88-e95e-4fea-8bf0-6c4f5ef2b13c"
   },
   "outputs": [
    {
     "data": {
      "image/png": "[encoded data removed]",
      "text/plain": [
       "<Figure size 864x864 with 25 Axes>"
      ]
     },
     "metadata": {
      "needs_background": "light"
     },
     "output_type": "display_data"
    }
   ],
   "source": [
    "plot_img_sample_grid(X_train, 5, y_train)"
   ]
  },
  {
   "cell_type": "code",
   "execution_count": 9,
   "metadata": {
    "colab": {
     "base_uri": "https://localhost:8080/"
    },
    "id": "TTRy8tupcsbJ",
    "outputId": "aebb5bc3-6231-4f7c-fbf7-c7a9a701316c"
   },
   "outputs": [
    {
     "name": "stdout",
     "output_type": "stream",
     "text": [
      "(10000, 28, 28) (10000,) (255.0, 0.0)\n"
     ]
    }
   ],
   "source": [
    "X_test, y_test = tX_test.numpy(), ty_test.numpy()\n",
    "\n",
    "print(X_test.shape, y_test.shape, (X_test.max(), X_test.min()))"
   ]
  },
  {
   "cell_type": "markdown",
   "metadata": {
    "id": "tByRTf76Jorn"
   },
   "source": [
    "El conjunto de test a su vez contiene 10000 rows con la misma resolución que el dataset de entrenamiento, 28x28 px"
   ]
  },
  {
   "cell_type": "code",
   "execution_count": 10,
   "metadata": {
    "colab": {
     "base_uri": "https://localhost:8080/",
     "height": 699
    },
    "id": "60LLxlzd75sg",
    "outputId": "5b5217ef-aeed-4606-fbf3-616c9ed06b6c"
   },
   "outputs": [
    {
     "data": {
      "image/png": "[encoded data removed]",
      "text/plain": [
       "<Figure size 864x864 with 25 Axes>"
      ]
     },
     "metadata": {
      "needs_background": "light"
     },
     "output_type": "display_data"
    }
   ],
   "source": [
    "plot_img_sample_grid(X_test, 5, y_test)"
   ]
  },
  {
   "cell_type": "markdown",
   "metadata": {
    "id": "XFnqzRKfHxBP"
   },
   "source": [
    "Como se puede observar las imágenes contienen números manuscritos. Vamos a normalizar las imagenes re-escalando los valores en el rango $[-0.5, 0.5]$:"
   ]
  },
  {
   "cell_type": "code",
   "execution_count": 11,
   "metadata": {
    "id": "0ZyP8LdvHSpl"
   },
   "outputs": [],
   "source": [
    "class Scaler(TransformerMixin, BaseEstimator):\n",
    "    \"\"\"Scale dataset in range [-0.5, 0.5]\"\"\"\n",
    "\n",
    "    def fit(self, X, y=None):\n",
    "        return self\n",
    "\n",
    "    def transform(self, X):\n",
    "        return (X / X.max()) - 0.5\n",
    "\n",
    "    def fit_transform(self, X, y=None):\n",
    "        return self.fit(X).transform(X)\n"
   ]
  },
  {
   "cell_type": "code",
   "execution_count": 12,
   "metadata": {
    "colab": {
     "base_uri": "https://localhost:8080/"
    },
    "id": "ntu2OEZpF4kW",
    "outputId": "edba6502-cd25-48bb-828f-4b9f0b51e9d4"
   },
   "outputs": [
    {
     "name": "stdout",
     "output_type": "stream",
     "text": [
      "(-0.5, 0.5) (-0.5, 0.5)\n"
     ]
    }
   ],
   "source": [
    "scaler = Scaler()\n",
    "X_train_n = scaler.fit_transform(X_train)\n",
    "X_test_n = scaler.fit_transform(X_test)\n",
    "print((X_train_n.min(), X_train_n.max()), (X_test_n.min(), X_test_n.max()))"
   ]
  },
  {
   "cell_type": "markdown",
   "metadata": {
    "id": "9_AHmjKCcsbJ"
   },
   "source": [
    "# 2. Entrenamiento de modelos de ML tradicionales con HOG features (2 puntos)\n",
    "\n",
    "Para conseguir modelos mas robustos, podemos hacer uso de HOG features para procesar las imágenes de forma que obtengamos unas variables de entrada mas genéricas que los valores específicos de los píxeles.\n",
    "\n",
    "Esta parte consiste en, al igual que hicimos en ejercicios anteriores:\n",
    " - Extraer las HOG features de las imágenes para obtener un dataset transformado con el que entrenar\n",
    " - Elegir 3 algoritmos de ML clásico (de scikit-learn) y entrenar modelos de clasificación con el dataset transformado "
   ]
  },
  {
   "cell_type": "code",
   "execution_count": 13,
   "metadata": {
    "id": "tyXy9XwTm3Z0"
   },
   "outputs": [],
   "source": [
    "class HOG(TransformerMixin, BaseEstimator):\n",
    "    \"\"\"\n",
    "    Apply HOG to dataset using different pixels per \n",
    "    cell number in each iteration and return it flattened\n",
    "    \"\"\"\n",
    "    def __init__(self, pixels_per_cell=(14,), orientations=8, cells_per_block=(1, 1), block_norm='L1'):\n",
    "        \n",
    "        self.pixels_per_cell = pixels_per_cell\n",
    "        self._set_pixels_per_cell()\n",
    "        self.orientations = orientations\n",
    "        self.cells_per_block = cells_per_block\n",
    "        self.block_norm = block_norm\n",
    "        \n",
    "    \n",
    "    def _set_pixels_per_cell(self):\n",
    "        if not isinstance(self.pixels_per_cell, (tuple, list)):\n",
    "            switch = {\n",
    "                float: lambda x: int(round(x)),\n",
    "                str: lambda x: int(round(float(x))),\n",
    "                int: lambda x: x,\n",
    "            }\n",
    "            try:\n",
    "                func = switch[type(self.pixels_per_cell)]\n",
    "            except KeyError:\n",
    "                raise ValueError(f'Incorrect type {type(pixels_per_cell)} for ' \\\n",
    "                    'pixels_per_cell. Only (list, tuple, int, str, int, float' \\\n",
    "                    'are supported')\n",
    "            value = func(self.pixels_per_cell)\n",
    "            self.pixels_per_cell = (value,)\n",
    "        \n",
    "\n",
    "    def fit(self, X, y=None, **fit_params):\n",
    "        return self\n",
    "  \n",
    "    def transform(self, X):\n",
    "        hog_kwargs = {\n",
    "            'orientations': self.orientations,\n",
    "            'cells_per_block': self.cells_per_block,\n",
    "            'block_norm': self.block_norm\n",
    "        }\n",
    "        hog_ftr = [np.concatenate([\n",
    "                hog(xi, pixels_per_cell=(ppc, ppc), **hog_kwargs)[np.newaxis,:] \n",
    "                    for xi in X], axis=0) \n",
    "            for ppc in self.pixels_per_cell]\n",
    "\n",
    "        return np.concatenate(hog_ftr, axis=1)\n",
    "      \n",
    "    def fit_transform(self, X, y=None, *fit_params):\n",
    "        return self.fit(X).transform(X)\n",
    "    "
   ]
  },
  {
   "cell_type": "code",
   "execution_count": 14,
   "metadata": {
    "colab": {
     "background_save": true
    },
    "id": "-pH3xYzUwiDN",
    "outputId": "88d6f8a7-b5eb-4ea9-ef3f-e307fdd7f0b2"
   },
   "outputs": [
    {
     "name": "stdout",
     "output_type": "stream",
     "text": [
      "(60000, 552) (10000, 552)\n"
     ]
    }
   ],
   "source": [
    "pixels_per_cell = [14,7,4]\n",
    "X_train_hog = HOG(pixels_per_cell=pixels_per_cell).fit_transform(X_train_n)\n",
    "X_test_hog =  HOG(pixels_per_cell=pixels_per_cell).fit_transform(X_test_n)\n",
    "\n",
    "print(X_train_hog.shape, X_test_hog.shape)"
   ]
  },
  {
   "cell_type": "code",
   "execution_count": 15,
   "metadata": {
    "id": "cxDroSJM4NtT"
   },
   "outputs": [],
   "source": [
    "def benchmark_models(models):\n",
    "    scores = defaultdict(dict)\n",
    "    for name, Model in tqdm(models):\n",
    "        model = Model(random_state=RANDOM_STATE)\n",
    "        model.fit(X_train_hog, y_train)\n",
    "        scores[name]['train'] = model.score(X_train_hog, y_train)\n",
    "        scores[name]['test'] = model.score(X_test_hog, y_test)\n",
    "        print((name, scores[name]['train'], scores[name]['test']))\n",
    "\n",
    "    return scores"
   ]
  },
  {
   "cell_type": "markdown",
   "metadata": {},
   "source": [
    "Escogeremos un modelo de cada família; ensemble, linear y svm"
   ]
  },
  {
   "cell_type": "code",
   "execution_count": 16,
   "metadata": {
    "colab": {
     "base_uri": "https://localhost:8080/",
     "height": 959,
     "referenced_widgets": [
      "902f54902f3644baae58510a3a83d2eb",
      "607873867b224e59a0758928b83cae43",
      "87e9996541554084adf097ad4ca96f46",
      "2cc1bd102ecd4d0db8409bc7b60a7cd4",
      "90fb63742ab64db2865144c56330183b",
      "40bd6d30d4df4b4badde80f2bbac884b",
      "79df3fcf729e4561b95e5ff57fdfc899",
      "1b2be8cfae8547918a9bbeb3bdb3b1d7"
     ]
    },
    "id": "RTlg_raaC2Wu",
    "outputId": "8904cadf-f133-44e2-e80f-1c1540247de5"
   },
   "outputs": [
    {
     "data": {
      "application/vnd.jupyter.widget-view+json": {
       "model_id": "3eba87f35b7f407fa5ddcf5f833d10e7",
       "version_major": 2,
       "version_minor": 0
      },
      "text/plain": [
       "  0%|          | 0/3 [00:00<?, ?it/s]"
      ]
     },
     "metadata": {},
     "output_type": "display_data"
    },
    {
     "name": "stdout",
     "output_type": "stream",
     "text": [
      "('RandomForest', 1.0, 0.9772)\n"
     ]
    },
    {
     "name": "stderr",
     "output_type": "stream",
     "text": [
      "/home/Tiendeo/.envs/ue_master/lib/python3.8/site-packages/sklearn/linear_model/_logistic.py:763: ConvergenceWarning: lbfgs failed to converge (status=1):\n",
      "STOP: TOTAL NO. of ITERATIONS REACHED LIMIT.\n",
      "\n",
      "Increase the number of iterations (max_iter) or scale the data as shown in:\n",
      "    https://scikit-learn.org/stable/modules/preprocessing.html\n",
      "Please also refer to the documentation for alternative solver options:\n",
      "    https://scikit-learn.org/stable/modules/linear_model.html#logistic-regression\n",
      "  n_iter_i = _check_optimize_result(\n"
     ]
    },
    {
     "name": "stdout",
     "output_type": "stream",
     "text": [
      "('LogisticRegression', 0.98745, 0.979)\n",
      "('SVC', 0.9959833333333333, 0.9867)\n",
      "       RandomForest  LogisticRegression       SVC\n",
      "train        1.0000             0.98745  0.995983\n",
      "test         0.9772             0.97900  0.986700\n"
     ]
    },
    {
     "data": {
      "image/png": "[encoded data removed]",
      "text/plain": [
       "<Figure size 864x864 with 1 Axes>"
      ]
     },
     "metadata": {
      "needs_background": "light"
     },
     "output_type": "display_data"
    }
   ],
   "source": [
    "ml_models = [\n",
    "    ('RandomForest', RandomForestClassifier),\n",
    "    ('LogisticRegression', LogisticRegression),\n",
    "    ('SVC', SVC)\n",
    "]\n",
    "\n",
    "scores = benchmark_models(ml_models)\n",
    "scores_df = pd.DataFrame(scores)\n",
    "print(scores_df)\n",
    "scores_df.plot(kind='bar')\n",
    "plt.show()"
   ]
  },
  {
   "cell_type": "markdown",
   "metadata": {},
   "source": [
    "Vemos que con los hiperparámetros default el mejor modelo es la máquina de soporte vectorial. Con RandomForest se aprecia overfitting esto es debido a que es un modelo con bajo bias y alta varianza."
   ]
  },
  {
   "cell_type": "markdown",
   "metadata": {
    "id": "OnDcVMaKcsbL"
   },
   "source": [
    "# 3.\tGrid search de hiperparámetros de los modelos y HOG features (1 punto)\n",
    "\n",
    "Para refinar los modelos entrenados en el apartado anterior, en este apartado el objetivo es:\n",
    "- Desarrollar una pipeline de scikit-learn con las transformaciones realizadas (incluyendo HOG features) y los modelos desarrollados\n",
    "- Hacer un grid search sobre esta pipeline para hacer una selección de los hiperparámetros los modelos y de los hiperparámetros de la transformación HOG"
   ]
  },
  {
   "cell_type": "code",
   "execution_count": 17,
   "metadata": {
    "id": "0PRN1_TQbSOW"
   },
   "outputs": [],
   "source": [
    "class Clf(BaseEstimator):\n",
    "    \"\"\"Base model used to host classifiers on GridSearchCV\"\"\"\n",
    "    def __init__(self, estimator=DummyClassifier()):\n",
    "        self.estimator = estimator\n",
    "\n",
    "    def fit(self, X, y=None, **kwargs):\n",
    "        self.estimator.fit(X, y)\n",
    "        return self\n",
    "\n",
    "    def predict(self, X, y=None):\n",
    "        return self.estimator.predict(X)\n",
    "\n",
    "    def predict_proba(self, X):\n",
    "        return self.estimator.predict_proba(X)\n",
    "\n",
    "    def score(self, X, y):\n",
    "        return self.estimator.score(X, y)"
   ]
  },
  {
   "cell_type": "code",
   "execution_count": 18,
   "metadata": {
    "colab": {
     "base_uri": "https://localhost:8080/",
     "height": 409
    },
    "id": "hv7kZAPqKcZG",
    "outputId": "632bc0b5-eb3c-48fa-8c43-aec9d0fef034"
   },
   "outputs": [],
   "source": [
    "ml_pipe = make_pipeline(Scaler(), HOG(), Clf(), )\n",
    "ml_param_grid = [{\n",
    "        'clf__estimator': [LogisticRegression()],\n",
    "        'clf__estimator__solver': ['sag', 'saga'],\n",
    "        'clf__estimator__max_iter': [100, 800], #default 100\n",
    "        'clf__estimator__penalty': ['l2', 'none'], #default l2\n",
    "        'hog__pixels_per_cell': [[14, 7, 4],]\n",
    "    },{\n",
    "        'clf__estimator': [RandomForestClassifier()],\n",
    "        'clf__estimator__criterion': ['entropy', 'gini'], #default gini\n",
    "        'clf__estimator__n_estimators': [100, 150], #default 100\n",
    "        'hog__pixels_per_cell': [[14, 7, 4],]\n",
    "    },{\n",
    "        'clf__estimator': [SVC()],\n",
    "        'clf__estimator__C': [1., 10.], # default 1.\n",
    "        'clf__estimator__gamma': ['scale', 'auto'], # default scale\n",
    "        'hog__pixels_per_cell': [[14, 7, 4],]\n",
    "    }]"
   ]
  },
  {
   "cell_type": "code",
   "execution_count": 19,
   "metadata": {
    "colab": {
     "base_uri": "https://localhost:8080/",
     "height": 409
    },
    "id": "hv7kZAPqKcZG",
    "outputId": "632bc0b5-eb3c-48fa-8c43-aec9d0fef034"
   },
   "outputs": [
    {
     "name": "stdout",
     "output_type": "stream",
     "text": [
      "Fitting 3 folds for each of 16 candidates, totalling 48 fits\n"
     ]
    }
   ],
   "source": [
    "checkpoints = []\n",
    "\n",
    "ml_gs_filename = 'ml_gs.pkl'\n",
    "checkpoints.append(ml_gs_filename)\n",
    "try:\n",
    "    with open(ml_gs_filename, 'rb') as fp:\n",
    "        ml_gs = pkl.load(fp)\n",
    "except FileNotFoundError:\n",
    "    ml_gs = GridSearchCV(ml_pipe, ml_param_grid, \n",
    "        cv=3, n_jobs=2, verbose=4, scoring='accuracy', return_train_score=True)\n",
    "    ml_gs.fit(X_train, y_train)\n",
    "    with open(ml_gs_filename, 'wb') as fp:\n",
    "        pkl.dump(ml_gs, fp)"
   ]
  },
  {
   "cell_type": "code",
   "execution_count": 20,
   "metadata": {
    "id": "oT-ckD4khbXE"
   },
   "outputs": [
    {
     "data": {
      "text/html": [
       "<div>\n",
       "<style scoped>\n",
       "    .dataframe tbody tr th:only-of-type {\n",
       "        vertical-align: middle;\n",
       "    }\n",
       "\n",
       "    .dataframe tbody tr th {\n",
       "        vertical-align: top;\n",
       "    }\n",
       "\n",
       "    .dataframe thead th {\n",
       "        text-align: right;\n",
       "    }\n",
       "</style>\n",
       "<table border=\"1\" class=\"dataframe\">\n",
       "  <thead>\n",
       "    <tr style=\"text-align: right;\">\n",
       "      <th></th>\n",
       "      <th>param_clf__estimator</th>\n",
       "      <th>mean_test_score</th>\n",
       "      <th>mean_train_score</th>\n",
       "    </tr>\n",
       "  </thead>\n",
       "  <tbody>\n",
       "    <tr>\n",
       "      <th>0</th>\n",
       "      <td>SVC(C=10.0)</td>\n",
       "      <td>0.984433</td>\n",
       "      <td>0.999975</td>\n",
       "    </tr>\n",
       "    <tr>\n",
       "      <th>1</th>\n",
       "      <td>SVC(C=10.0)</td>\n",
       "      <td>0.983550</td>\n",
       "      <td>0.995933</td>\n",
       "    </tr>\n",
       "    <tr>\n",
       "      <th>2</th>\n",
       "      <td>SVC(C=10.0)</td>\n",
       "      <td>0.976150</td>\n",
       "      <td>0.983333</td>\n",
       "    </tr>\n",
       "  </tbody>\n",
       "</table>\n",
       "</div>"
      ],
      "text/plain": [
       "  param_clf__estimator  mean_test_score  mean_train_score\n",
       "0          SVC(C=10.0)         0.984433          0.999975\n",
       "1          SVC(C=10.0)         0.983550          0.995933\n",
       "2          SVC(C=10.0)         0.976150          0.983333"
      ]
     },
     "execution_count": 20,
     "metadata": {},
     "output_type": "execute_result"
    }
   ],
   "source": [
    "ml_results = pd.DataFrame(ml_gs.cv_results_).sort_values('rank_test_score').reset_index()\n",
    "ml_results[['param_clf__estimator', 'mean_test_score', 'mean_train_score']][:3]"
   ]
  },
  {
   "cell_type": "code",
   "execution_count": 21,
   "metadata": {},
   "outputs": [
    {
     "data": {
      "text/plain": [
       "{'clf__estimator': SVC(C=10.0),\n",
       " 'clf__estimator__C': 10.0,\n",
       " 'clf__estimator__gamma': 'scale',\n",
       " 'hog__pixels_per_cell': [14, 7, 4]}"
      ]
     },
     "execution_count": 21,
     "metadata": {},
     "output_type": "execute_result"
    }
   ],
   "source": [
    "ml_gs.best_params_"
   ]
  },
  {
   "cell_type": "markdown",
   "metadata": {
    "id": "i8JZQm1fcsbM"
   },
   "source": [
    "# 4. Diseño de red neuronal “fully connected”, no convolucional. (1 punto)\n",
    "\n",
    "Como hemos visto en la sesión de Deep Learning, los modelos de Deep Learning son capaces de \"capturar\" features a partir de los datos. \n",
    "\n",
    "El objetivo de esta sección es:\n",
    "- Construir una red neuronal no convolucional que tenga como input una imágen y como output la probabilidad asociada a cada clase (dígitos 0-9)\n",
    "- Comprobar que la red definida funciona haciendo un forward pass (sin entrenarla)"
   ]
  },
  {
   "cell_type": "markdown",
   "metadata": {},
   "source": [
    "Movemos los tensores a la GPU si es posible"
   ]
  },
  {
   "cell_type": "code",
   "execution_count": 22,
   "metadata": {},
   "outputs": [],
   "source": [
    "if DEVICE == 'cuda':\n",
    "    for subset in (tX_train, ty_train, tX_test, ty_test):\n",
    "        subset = subset.cuda()"
   ]
  },
  {
   "cell_type": "code",
   "execution_count": 381,
   "metadata": {},
   "outputs": [],
   "source": [
    "class MLPModule(nn.Module):\n",
    "    \"\"\" Multi Layer Perceptron \"\"\"\n",
    "    def __init__(self):\n",
    "        super().__init__()\n",
    "        self.network = nn.Sequential(\n",
    "            nn.Flatten(),\n",
    "            nn.Dropout(0.5),\n",
    "            nn.Linear(28*28, 128),\n",
    "            nn.LeakyReLU(),\n",
    "            nn.Dropout(0.5),\n",
    "            nn.Linear(128, 64),\n",
    "            nn.Dropout(0.5),\n",
    "            nn.Linear(64, 10),\n",
    "            nn.LogSoftmax(dim=1)\n",
    "        )\n",
    "        \n",
    "    def forward(self, X):\n",
    "        return self.network(X)\n",
    "    \n",
    "def init_f(forw):\n",
    "    \"\"\" Initialize NN weights using xavier normal\"\"\"\n",
    "    for nam, param in forw.named_parameters():\n",
    "        if 'weight' in nam:\n",
    "            torch.nn.init.xavier_normal_(param) \n",
    "        else:\n",
    "            param.data.fill_(0.01)"
   ]
  },
  {
   "cell_type": "code",
   "execution_count": 24,
   "metadata": {},
   "outputs": [
    {
     "data": {
      "text/plain": [
       "torch.Size([60000, 10])"
      ]
     },
     "execution_count": 24,
     "metadata": {},
     "output_type": "execute_result"
    }
   ],
   "source": [
    "mlp_net = NeuralNetClassifier(\n",
    "    MLPModule,\n",
    "    max_epochs=50,\n",
    "    iterator_train__num_workers=4,\n",
    "    iterator_valid__num_workers=4,\n",
    "    lr=1e-3,\n",
    "    batch_size=64,\n",
    "    optimizer=torch.optim.Adam,\n",
    "    criterion=nn.CrossEntropyLoss,\n",
    "    device=DEVICE,\n",
    "    warm_start=True\n",
    "    )\n",
    "mlp_net.initialize()\n",
    "mlp_net.forward(tX_train).shape"
   ]
  },
  {
   "cell_type": "code",
   "execution_count": 25,
   "metadata": {},
   "outputs": [
    {
     "name": "stdout",
     "output_type": "stream",
     "text": [
      "network.2.weight torch.Size([128, 784])\n",
      "network.2.bias torch.Size([128])\n",
      "network.5.weight torch.Size([64, 128])\n",
      "network.5.bias torch.Size([64])\n",
      "network.7.weight torch.Size([10, 64])\n",
      "network.7.bias torch.Size([10])\n"
     ]
    }
   ],
   "source": [
    "for name, param in mlp_net.module_.named_parameters():\n",
    "    print(name, param.shape)"
   ]
  },
  {
   "cell_type": "markdown",
   "metadata": {
    "id": "eC7PJi8ScsbN"
   },
   "source": [
    "# 5. Entrenamiento red neuronal “fully connected”. (0,5 puntos)\n",
    "\n",
    "El objetivo de esta sección es entrenar la red definida en el apartado anterior y comprobar su rendimiento en el set de testing."
   ]
  },
  {
   "cell_type": "code",
   "execution_count": 26,
   "metadata": {},
   "outputs": [],
   "source": [
    "mlp_pipe = Pipeline([\n",
    "    ('scaler', Scaler()),\n",
    "    ('net', mlp_net),\n",
    "])"
   ]
  },
  {
   "cell_type": "code",
   "execution_count": 27,
   "metadata": {},
   "outputs": [
    {
     "name": "stdout",
     "output_type": "stream",
     "text": [
      "  epoch    train_loss    valid_acc    valid_loss     dur\n",
      "-------  ------------  -----------  ------------  ------\n",
      "      1        \u001b[36m1.1698\u001b[0m       \u001b[32m0.8755\u001b[0m        \u001b[35m0.4449\u001b[0m  2.1520\n",
      "      2        \u001b[36m0.7429\u001b[0m       \u001b[32m0.8997\u001b[0m        \u001b[35m0.3728\u001b[0m  2.0935\n",
      "      3        \u001b[36m0.6700\u001b[0m       \u001b[32m0.9123\u001b[0m        \u001b[35m0.3224\u001b[0m  2.1225\n",
      "      4        \u001b[36m0.6352\u001b[0m       \u001b[32m0.9157\u001b[0m        \u001b[35m0.2939\u001b[0m  2.1555\n",
      "      5        \u001b[36m0.6011\u001b[0m       \u001b[32m0.9240\u001b[0m        \u001b[35m0.2746\u001b[0m  2.1438\n",
      "      6        \u001b[36m0.5712\u001b[0m       0.9234        \u001b[35m0.2677\u001b[0m  2.1290\n",
      "      7        \u001b[36m0.5570\u001b[0m       \u001b[32m0.9347\u001b[0m        \u001b[35m0.2416\u001b[0m  2.1611\n",
      "      8        \u001b[36m0.5421\u001b[0m       0.9312        0.2461  2.1091\n",
      "      9        \u001b[36m0.5203\u001b[0m       0.9324        \u001b[35m0.2334\u001b[0m  2.1005\n",
      "     10        \u001b[36m0.5084\u001b[0m       \u001b[32m0.9357\u001b[0m        \u001b[35m0.2261\u001b[0m  2.0981\n",
      "     11        \u001b[36m0.5029\u001b[0m       \u001b[32m0.9368\u001b[0m        \u001b[35m0.2189\u001b[0m  2.1110\n",
      "     12        \u001b[36m0.4929\u001b[0m       \u001b[32m0.9438\u001b[0m        \u001b[35m0.2061\u001b[0m  2.1236\n",
      "     13        \u001b[36m0.4752\u001b[0m       0.9395        0.2144  2.1263\n",
      "     14        \u001b[36m0.4672\u001b[0m       0.9431        \u001b[35m0.2010\u001b[0m  2.1253\n",
      "     15        \u001b[36m0.4631\u001b[0m       \u001b[32m0.9472\u001b[0m        \u001b[35m0.1942\u001b[0m  2.1414\n",
      "     16        \u001b[36m0.4526\u001b[0m       0.9471        \u001b[35m0.1871\u001b[0m  2.1194\n",
      "     17        \u001b[36m0.4501\u001b[0m       \u001b[32m0.9480\u001b[0m        \u001b[35m0.1834\u001b[0m  2.1246\n",
      "     18        \u001b[36m0.4427\u001b[0m       0.9479        0.1919  2.1384\n",
      "     19        \u001b[36m0.4388\u001b[0m       \u001b[32m0.9483\u001b[0m        0.1902  2.1104\n",
      "     20        \u001b[36m0.4352\u001b[0m       \u001b[32m0.9497\u001b[0m        \u001b[35m0.1822\u001b[0m  2.1051\n",
      "     21        \u001b[36m0.4306\u001b[0m       \u001b[32m0.9513\u001b[0m        \u001b[35m0.1729\u001b[0m  2.1217\n",
      "     22        0.4347       0.9503        0.1751  2.1134\n",
      "     23        \u001b[36m0.4225\u001b[0m       \u001b[32m0.9523\u001b[0m        \u001b[35m0.1686\u001b[0m  2.1488\n",
      "     24        0.4267       0.9515        0.1710  2.1700\n",
      "     25        \u001b[36m0.4173\u001b[0m       \u001b[32m0.9527\u001b[0m        0.1738  2.1223\n",
      "     26        0.4182       0.9505        0.1708  2.1612\n",
      "     27        \u001b[36m0.4120\u001b[0m       0.9524        \u001b[35m0.1683\u001b[0m  2.1330\n",
      "     28        \u001b[36m0.4074\u001b[0m       \u001b[32m0.9552\u001b[0m        \u001b[35m0.1654\u001b[0m  2.1010\n",
      "     29        0.4089       0.9543        \u001b[35m0.1622\u001b[0m  2.1056\n",
      "     30        \u001b[36m0.4042\u001b[0m       0.9517        0.1698  2.1489\n",
      "     31        0.4076       0.9543        0.1636  2.1336\n",
      "     32        0.4050       0.9539        0.1645  2.1738\n",
      "     33        0.4080       0.9523        0.1625  2.0985\n",
      "     34        0.4078       0.9550        0.1624  2.1415\n",
      "     35        \u001b[36m0.4008\u001b[0m       0.9539        0.1623  2.1638\n",
      "     36        \u001b[36m0.3955\u001b[0m       \u001b[32m0.9571\u001b[0m        \u001b[35m0.1556\u001b[0m  2.1351\n",
      "     37        0.4001       0.9564        \u001b[35m0.1553\u001b[0m  2.1300\n",
      "     38        \u001b[36m0.3920\u001b[0m       \u001b[32m0.9574\u001b[0m        0.1579  2.1458\n",
      "     39        0.3949       \u001b[32m0.9578\u001b[0m        0.1565  2.1566\n",
      "     40        0.3940       0.9547        \u001b[35m0.1547\u001b[0m  2.1381\n",
      "     41        0.4017       0.9563        0.1608  2.1526\n",
      "     42        0.3921       \u001b[32m0.9591\u001b[0m        \u001b[35m0.1515\u001b[0m  2.1254\n",
      "     43        \u001b[36m0.3917\u001b[0m       0.9573        0.1554  2.1726\n",
      "     44        0.3987       0.9583        0.1549  2.1205\n",
      "     45        \u001b[36m0.3911\u001b[0m       0.9539        0.1577  2.1364\n",
      "     46        \u001b[36m0.3862\u001b[0m       0.9548        0.1583  2.1041\n",
      "     47        0.3929       \u001b[32m0.9597\u001b[0m        \u001b[35m0.1501\u001b[0m  2.1477\n",
      "     48        0.3920       0.9589        \u001b[35m0.1492\u001b[0m  2.1334\n",
      "     49        0.3883       0.9573        0.1537  2.1313\n",
      "     50        \u001b[36m0.3819\u001b[0m       \u001b[32m0.9602\u001b[0m        \u001b[35m0.1459\u001b[0m  2.1946\n"
     ]
    }
   ],
   "source": [
    "mlp_filename = 'mlp.pkl'\n",
    "checkpoints.append(mlp_filename)\n",
    "\n",
    "try:\n",
    "    with open(mlp_filename, 'rb') as fp:\n",
    "        mlp_pipe = pkl.load(fp)\n",
    "except FileNotFoundError:\n",
    "    torch.manual_seed(RANDOM_STATE)\n",
    "    init_f(mlp_net.module_)\n",
    "    mlp_pipe.fit(tX_train.unsqueeze(1), ty_train)\n",
    "    with open(mlp_filename, 'wb') as fp:\n",
    "        pkl.dump(mlp_pipe, fp)"
   ]
  },
  {
   "cell_type": "code",
   "execution_count": 28,
   "metadata": {},
   "outputs": [
    {
     "data": {
      "text/plain": [
       "(0.9642, 0.9608)"
      ]
     },
     "execution_count": 28,
     "metadata": {},
     "output_type": "execute_result"
    }
   ],
   "source": [
    "mlp_pipe.score(tX_train.unsqueeze(1), ty_train), mlp_pipe.score(tX_test.unsqueeze(1), ty_test)"
   ]
  },
  {
   "cell_type": "markdown",
   "metadata": {
    "id": "STwhKp95csbO"
   },
   "source": [
    "# 6. Diseño de red neuronal convolucional. (1 punto)\n",
    "\n",
    "Como hemos visto en la sesión de Deep Learning, las redes convolucionales presentan mejores resultados para la clasificación de imágenes, ya que capturan mejor la estructura y correlación entre píxeles cercanos. \n",
    "\n",
    "El objetivo de esta sección es:\n",
    "- Construir una red neuronal convolucional que tenga como input una imágen y como output la probabilidad asociada a cada clase (dígitos 0-9)\n",
    "- Comprobar que la red definida funciona haciendo un forward pass (sin entrenarla)"
   ]
  },
  {
   "cell_type": "code",
   "execution_count": 366,
   "metadata": {},
   "outputs": [],
   "source": [
    "class Unsqueeze(TransformerMixin, BaseEstimator):\n",
    "\n",
    "    def fit(self, X, y=None):\n",
    "        return self\n",
    "\n",
    "    def transform(self, X):        \n",
    "        return X.unsqueeze(1)"
   ]
  },
  {
   "cell_type": "markdown",
   "metadata": {},
   "source": [
    "$$\n",
    "Cálculo\\ de\\ los\\ pixels\\ resultantes\\ de\\ la\\ capa\\ de\\ convolución \\\\\n",
    "h = w = \\frac{1 + (w_0 - n + 2p)}{s} \\\\\n",
    "C_{out} = h \\cdot w \\cdot C_{out}\\\\\n",
    "\\\\\n",
    "Cálculo\\ de\\ los\\ pixels\\ resultantes\\ de\\ la\\ transformación\\ de\\ MaxPooling \\\\\n",
    "P_{out} = \\frac{w_0+2·p−d·(n−1)−1}{s} +1 \\\\\n",
    "$$"
   ]
  },
  {
   "cell_type": "code",
   "execution_count": 31,
   "metadata": {},
   "outputs": [
    {
     "data": {
      "text/plain": [
       "torch.Size([60000, 10])"
      ]
     },
     "execution_count": 31,
     "metadata": {},
     "output_type": "execute_result"
    }
   ],
   "source": [
    "class NNetModule(nn.Module):\n",
    "    \"\"\" Convolutional Neuronal Network\"\"\"\n",
    "    def __init__(self):\n",
    "        super().__init__()\n",
    "        self.network = nn.Sequential(\n",
    "            nn.Conv2d(1, 32, kernel_size=3, stride=1, padding=1),  # w = h = 1 + (32 - 3 + 2·1 ) / 1 = 28\n",
    "            nn.LeakyReLU(),\n",
    "            nn.Conv2d(32, 64, kernel_size=3, stride=1, padding=1), # w = h = 1 + (28 - 3 + 2·1 ) / 1 = 28\n",
    "            nn.MaxPool2d(kernel_size=2, stride=2), # w = h = ((28 + 2·0 - 1 · (2-1)-1)   / 2)+1 = 13 + 1 = 14\n",
    "            nn.LeakyReLU(),\n",
    "            nn.Conv2d(64, 128, kernel_size=3, stride=1, padding=1), # w = h = 1 + (28 - 3 + 2·1 ) / 1 = 28\n",
    "            nn.MaxPool2d(kernel_size=2, stride=2), # w = h = ((14 + 2·0 - 1 · (2-1)-1)   / 2)+1 = 6 + 1 = 7\n",
    "            nn.LeakyReLU(),\n",
    "            nn.Flatten(), \n",
    "            nn.Dropout(0.5),\n",
    "            nn.Linear(128 * 7 * 7, 128), # L_in = F_out = d · h · w = 128 · 7 · 7 = 6272\n",
    "            nn.LeakyReLU(),\n",
    "            nn.Dropout(0.5),\n",
    "            nn.Linear(128, 64),\n",
    "            nn.Dropout(0.5),\n",
    "            nn.Linear(64, 10),\n",
    "            nn.LogSoftmax(dim=1)\n",
    "        )\n",
    "        \n",
    "    def forward(self, X):\n",
    "        return self.network(X)\n",
    "        \n",
    "cnv_net = NeuralNetClassifier(\n",
    "    NNetModule,\n",
    "    max_epochs=500,\n",
    "    iterator_train__num_workers=4,\n",
    "    iterator_valid__num_workers=4,\n",
    "    lr=1e-3,\n",
    "    batch_size=64,\n",
    "    optimizer=torch.optim.Adam,\n",
    "    criterion=nn.CrossEntropyLoss,\n",
    "    device=DEVICE,\n",
    "    warm_start=True\n",
    ")\n",
    "cnv_net.initialize()\n",
    "cnv_net.forward(make_pipeline(Unsqueeze(), Scaler()).fit_transform(tX_train)).shape"
   ]
  },
  {
   "cell_type": "code",
   "execution_count": 32,
   "metadata": {},
   "outputs": [
    {
     "name": "stdout",
     "output_type": "stream",
     "text": [
      "network.0.weight torch.Size([32, 1, 3, 3])\n",
      "network.0.bias torch.Size([32])\n",
      "network.2.weight torch.Size([64, 32, 3, 3])\n",
      "network.2.bias torch.Size([64])\n",
      "network.5.weight torch.Size([128, 64, 3, 3])\n",
      "network.5.bias torch.Size([128])\n",
      "network.10.weight torch.Size([128, 6272])\n",
      "network.10.bias torch.Size([128])\n",
      "network.13.weight torch.Size([64, 128])\n",
      "network.13.bias torch.Size([64])\n",
      "network.15.weight torch.Size([10, 64])\n",
      "network.15.bias torch.Size([10])\n"
     ]
    }
   ],
   "source": [
    "for name, param in cnv_net.module_.named_parameters():\n",
    "    print(name, param.shape)"
   ]
  },
  {
   "cell_type": "markdown",
   "metadata": {
    "id": "ezgeybfJcsbO"
   },
   "source": [
    "# 7. Entrenamiento red neuronal convolucional. (0,5 puntos)\n",
    "\n",
    "El objetivo de esta sección es entrenar la red definida en el apartado anterior y comprobar su rendimiento en el set de testing."
   ]
  },
  {
   "cell_type": "code",
   "execution_count": 33,
   "metadata": {},
   "outputs": [],
   "source": [
    "cnv_pipe = Pipeline([\n",
    "    ('scaler', Scaler()),\n",
    "    ('ocbw', Unsqueeze()),\n",
    "    ('net', cnv_net),\n",
    "])"
   ]
  },
  {
   "cell_type": "code",
   "execution_count": 34,
   "metadata": {},
   "outputs": [
    {
     "name": "stdout",
     "output_type": "stream",
     "text": [
      "  epoch    train_loss    valid_acc    valid_loss      dur\n",
      "-------  ------------  -----------  ------------  -------\n",
      "      1        \u001b[36m0.3822\u001b[0m       \u001b[32m0.9800\u001b[0m        \u001b[35m0.0752\u001b[0m  42.9906\n",
      "      2        \u001b[36m0.1121\u001b[0m       \u001b[32m0.9878\u001b[0m        \u001b[35m0.0470\u001b[0m  42.7710\n",
      "      3        \u001b[36m0.0832\u001b[0m       \u001b[32m0.9898\u001b[0m        \u001b[35m0.0387\u001b[0m  43.1463\n",
      "      4        \u001b[36m0.0721\u001b[0m       \u001b[32m0.9901\u001b[0m        \u001b[35m0.0375\u001b[0m  43.0349\n",
      "      5        \u001b[36m0.0638\u001b[0m       0.9887        0.0448  49.7267\n",
      "      6        \u001b[36m0.0535\u001b[0m       \u001b[32m0.9907\u001b[0m        0.0399  43.8867\n",
      "      7        \u001b[36m0.0516\u001b[0m       0.9898        \u001b[35m0.0359\u001b[0m  42.9597\n",
      "      8        \u001b[36m0.0476\u001b[0m       0.9897        0.0409  42.7444\n",
      "      9        \u001b[36m0.0432\u001b[0m       0.9901        0.0381  43.3472\n",
      "     10        \u001b[36m0.0408\u001b[0m       0.9892        0.0484  43.0658\n",
      "     11        0.0410       0.9900        0.0438  43.0749\n",
      "     12        \u001b[36m0.0352\u001b[0m       \u001b[32m0.9919\u001b[0m        \u001b[35m0.0312\u001b[0m  43.2832\n",
      "     13        \u001b[36m0.0343\u001b[0m       0.9912        0.0404  43.0602\n",
      "     14        0.0351       0.9904        0.0408  43.2070\n",
      "     15        \u001b[36m0.0282\u001b[0m       0.9914        0.0422  43.3418\n",
      "     16        0.0338       0.9917        0.0375  43.6497\n",
      "     17        0.0300       \u001b[32m0.9923\u001b[0m        0.0361  43.5615\n",
      "     18        \u001b[36m0.0248\u001b[0m       0.9915        0.0441  44.3219\n",
      "     19        \u001b[36m0.0242\u001b[0m       \u001b[32m0.9926\u001b[0m        0.0379  44.3971\n",
      "     20        0.0255       0.9918        0.0415  44.2126\n",
      "     21        0.0251       \u001b[32m0.9934\u001b[0m        0.0333  45.3729\n",
      "     22        \u001b[36m0.0240\u001b[0m       0.9911        0.0466  45.3315\n",
      "     23        0.0246       0.9918        0.0372  45.8170\n",
      "     24        \u001b[36m0.0232\u001b[0m       0.9914        0.0437  46.3026\n",
      "     25        \u001b[36m0.0215\u001b[0m       0.9920        0.0438  48.8209\n",
      "     26        \u001b[36m0.0200\u001b[0m       0.9912        0.0499  48.1423\n",
      "     27        0.0228       0.9931        0.0395  49.4034\n",
      "     28        \u001b[36m0.0189\u001b[0m       0.9921        0.0439  49.4631\n",
      "     29        \u001b[36m0.0189\u001b[0m       0.9914        0.0558  50.0752\n",
      "     30        \u001b[36m0.0180\u001b[0m       0.9914        0.0475  53.0229\n",
      "     31        0.0206       0.9912        0.0461  52.2379\n",
      "     32        0.0204       0.9915        0.0391  55.6391\n",
      "     33        0.0204       0.9927        0.0382  51.1781\n",
      "     34        0.0184       0.9927        0.0387  55.5019\n",
      "     35        0.0209       0.9928        0.0416  59.0020\n",
      "     36        0.0189       0.9930        0.0460  53.5381\n",
      "     37        0.0206       0.9920        0.0474  55.9561\n",
      "     38        0.0188       0.9932        0.0413  55.8913\n",
      "     39        \u001b[36m0.0170\u001b[0m       0.9928        0.0416  53.9850\n",
      "     40        \u001b[36m0.0157\u001b[0m       0.9922        0.0535  61.6799\n",
      "     41        0.0207       0.9928        0.0446  66.1307\n",
      "     42        0.0166       0.9928        0.0460  60.5673\n",
      "     43        0.0162       0.9926        0.0417  62.6205\n",
      "     44        \u001b[36m0.0156\u001b[0m       0.9932        0.0486  63.6927\n",
      "     45        0.0182       0.9921        0.0479  59.0530\n",
      "     46        \u001b[36m0.0141\u001b[0m       \u001b[32m0.9936\u001b[0m        0.0421  62.6146\n",
      "     47        0.0143       0.9926        0.0485  65.5497\n",
      "     48        0.0190       \u001b[32m0.9938\u001b[0m        0.0509  65.5427\n",
      "     49        0.0184       0.9926        0.0517  66.1410\n",
      "     50        \u001b[36m0.0132\u001b[0m       0.9935        0.0502  69.5021\n",
      "     51        0.0135       0.9913        0.0618  79.6244\n",
      "     52        0.0174       0.9921        0.0560  80.7853\n",
      "     53        0.0184       0.9932        0.0524  79.3204\n",
      "     54        0.0149       0.9924        0.0506  72.7792\n",
      "     55        0.0135       0.9921        0.0538  78.8182\n",
      "     56        0.0175       0.9927        0.0417  72.5816\n",
      "     57        0.0160       0.9922        0.0497  68.8729\n",
      "     58        0.0168       0.9931        0.0513  68.0296\n",
      "     59        0.0157       0.9929        0.0529  70.1724\n",
      "     60        0.0133       0.9926        0.0513  76.1905\n",
      "     61        0.0161       0.9930        0.0489  70.5821\n",
      "     62        0.0168       0.9930        0.0493  69.4474\n",
      "     63        0.0160       0.9927        0.0538  72.3367\n",
      "     64        0.0155       0.9927        0.0399  82.2274\n",
      "     65        \u001b[36m0.0118\u001b[0m       0.9930        0.0481  77.6462\n",
      "     66        0.0181       0.9925        0.0545  72.4328\n",
      "     67        0.0152       0.9928        0.0578  73.1781\n",
      "     68        0.0161       0.9922        0.0427  73.3289\n",
      "     69        0.0147       0.9922        0.0552  77.7733\n",
      "     70        0.0171       0.9924        0.0478  80.3595\n",
      "     71        0.0142       0.9929        0.0572  79.9416\n",
      "     72        0.0121       0.9928        0.0482  88.5465\n",
      "     73        0.0161       0.9922        0.0594  89.4495\n",
      "     74        0.0156       0.9924        0.0637  84.8479\n",
      "     75        0.0171       0.9920        0.0584  87.2148\n",
      "     76        \u001b[36m0.0114\u001b[0m       0.9923        0.0590  97.0180\n",
      "     77        0.0152       0.9928        0.0505  86.2835\n",
      "     78        0.0172       0.9919        0.0633  87.3912\n",
      "     79        0.0140       0.9916        0.0573  89.4128\n",
      "     80        0.0161       0.9931        0.0625  94.7734\n",
      "     81        0.0157       0.9923        0.0698  102.0273\n",
      "     82        0.0129       0.9926        0.0536  100.1702\n",
      "     83        0.0138       0.9926        0.0584  102.8325\n",
      "     84        0.0131       0.9928        0.0702  107.3051\n",
      "     85        0.0184       0.9936        0.0531  109.0029\n",
      "     86        0.0158       0.9928        0.0430  106.9976\n",
      "     87        0.0157       0.9931        0.0463  103.1415\n",
      "     88        0.0153       \u001b[32m0.9940\u001b[0m        0.0598  104.7688\n",
      "     89        0.0138       0.9933        0.0514  104.2996\n",
      "     90        0.0156       0.9926        0.0576  109.6467\n",
      "     91        0.0142       0.9932        0.0680  115.4083\n",
      "     92        0.0144       0.9932        0.0438  107.1165\n",
      "     93        0.0173       0.9926        0.0572  107.6677\n",
      "     94        0.0146       0.9925        0.0559  103.7036\n",
      "     95        0.0147       0.9925        0.0617  106.3865\n",
      "     96        0.0133       0.9938        0.0644  103.3621\n",
      "     97        0.0169       0.9931        0.0808  110.2298\n",
      "     98        0.0140       0.9934        0.0641  111.6736\n",
      "     99        0.0153       0.9920        0.0631  107.6104\n",
      "    100        0.0154       0.9929        0.0751  106.3088\n",
      "    101        0.0152       0.9908        0.0569  113.9739\n",
      "    102        0.0170       0.9922        0.0593  120.5147\n",
      "    103        0.0144       0.9933        0.0584  123.7740\n",
      "    104        0.0175       0.9939        0.0634  109.4455\n",
      "    105        0.0138       0.9938        0.0625  122.5285\n",
      "    106        0.0166       0.9928        0.0753  108.8132\n",
      "    107        0.0138       0.9923        0.0666  112.6848\n",
      "    108        0.0173       0.9926        0.0797  115.4953\n",
      "    109        0.0151       0.9926        0.0913  123.1713\n",
      "    110        0.0161       0.9924        0.0740  126.7429\n",
      "    111        0.0164       0.9920        0.0698  127.2479\n",
      "    112        0.0190       0.9938        0.0589  124.3869\n",
      "    113        0.0167       0.9932        0.0721  115.9509\n",
      "    114        0.0144       0.9922        0.0812  127.7299\n",
      "    115        0.0157       0.9928        0.0617  128.3617\n",
      "    116        0.0133       0.9938        0.0481  139.4591\n",
      "    117        0.0130       0.9919        0.0546  134.0233\n",
      "    118        0.0189       0.9937        0.0638  127.6150\n",
      "    119        0.0152       0.9933        0.0626  123.5521\n",
      "    120        0.0146       0.9906        0.0657  136.2146\n",
      "    121        0.0159       0.9922        0.0538  127.8068\n",
      "    122        0.0161       0.9932        0.0666  127.5259\n",
      "    123        0.0165       0.9929        0.0565  127.7197\n",
      "    124        0.0180       0.9926        0.0613  129.6827\n",
      "    125        0.0130       0.9932        0.0679  143.0984\n",
      "    126        0.0194       0.9934        0.0639  132.1751\n",
      "    127        0.0179       0.9932        0.0780  132.8060\n",
      "    128        0.0195       0.9938        0.0707  137.5462\n",
      "    129        0.0154       \u001b[32m0.9942\u001b[0m        0.0728  135.4124\n",
      "    130        0.0148       0.9920        0.0752  141.4093\n",
      "    131        0.0159       0.9931        0.0956  132.1528\n"
     ]
    },
    {
     "name": "stdout",
     "output_type": "stream",
     "text": [
      "    132        0.0136       0.9935        0.0654  146.0860\n",
      "    133        0.0166       0.9936        0.0674  141.8719\n",
      "    134        0.0169       0.9916        0.0648  133.5627\n",
      "    135        0.0171       0.9918        0.0731  144.1956\n",
      "    136        0.0137       0.9938        0.0505  145.3944\n",
      "    137        0.0151       0.9932        0.0756  140.9637\n",
      "    138        0.0167       0.9932        0.0804  145.3658\n",
      "    139        0.0139       0.9925        0.0824  152.1281\n",
      "    140        0.0184       0.9926        0.0619  139.8764\n",
      "    141        0.0215       0.9925        0.0583  144.3898\n",
      "    142        0.0147       0.9924        0.0781  151.3831\n",
      "    143        0.0175       0.9932        0.0864  152.1984\n",
      "    144        0.0157       0.9933        0.0721  157.7396\n",
      "    145        0.0173       0.9928        0.0861  146.2911\n",
      "    146        0.0147       0.9917        0.0695  157.1625\n",
      "    147        0.0157       0.9914        0.0635  149.0029\n",
      "    148        0.0136       0.9924        0.0860  144.9664\n",
      "    149        0.0180       0.9932        0.0712  149.0893\n",
      "    150        0.0191       0.9924        0.0487  144.4123\n",
      "    151        0.0151       0.9931        0.0818  156.4769\n",
      "    152        0.0160       0.9938        0.0634  155.6488\n",
      "    153        0.0206       0.9928        0.0671  151.0802\n",
      "    154        0.0130       0.9922        0.1193  157.2245\n",
      "    155        0.0209       0.9918        0.0564  145.0299\n",
      "    156        0.0138       0.9919        0.0733  155.4981\n",
      "    157        0.0150       0.9932        0.0845  160.9039\n",
      "    158        0.0158       0.9928        0.0584  161.1380\n",
      "    159        0.0153       0.9935        0.0760  161.9582\n",
      "    160        0.0210       0.9941        0.0585  156.3217\n",
      "    161        0.0167       0.9935        0.0563  160.7927\n",
      "    162        0.0154       0.9928        0.0900  162.6110\n",
      "    163        0.0171       0.9918        0.0835  156.9385\n",
      "    164        0.0293       0.9929        0.0794  164.5187\n",
      "    165        0.0215       0.9920        0.0541  163.5524\n",
      "    166        0.0174       0.9937        0.0843  162.0740\n",
      "    167        0.0204       0.9934        0.0687  163.9968\n",
      "    168        0.0166       0.9927        0.0809  163.5800\n",
      "    169        0.0189       0.9928        0.0637  163.9257\n",
      "    170        0.0152       0.9923        0.0901  163.1456\n",
      "    171        0.0178       0.9928        0.0676  163.6417\n",
      "    172        0.0154       0.9918        0.0803  170.6729\n",
      "    173        0.0200       0.9928        0.1446  164.7688\n",
      "    174        0.0223       0.9911        0.0605  160.1826\n",
      "    175        0.0232       0.9929        0.0569  159.8862\n",
      "    176        0.0210       0.9928        0.1001  158.2486\n",
      "    177        0.0254       0.9932        0.0748  153.8386\n",
      "    178        0.0153       0.9934        0.0738  168.6163\n",
      "    179        0.0162       0.9941        0.0801  166.5913\n",
      "    180        0.0177       0.9936        0.0696  155.5933\n",
      "    181        0.0197       0.9928        0.0839  154.8518\n",
      "    182        0.0192       0.9922        0.0713  162.8358\n",
      "    183        0.0185       0.9928        0.0899  157.1283\n",
      "    184        0.0199       0.9917        0.0556  160.4037\n",
      "    185        0.0214       0.9934        0.0920  153.5412\n",
      "    186        0.0174       0.9929        0.1209  161.8093\n",
      "    187        0.0189       0.9926        0.0724  161.5576\n",
      "    188        0.0195       0.9925        0.1232  166.4360\n",
      "    189        0.0152       0.9931        0.0859  167.6699\n",
      "    190        0.0205       0.9925        0.1109  158.3387\n",
      "    191        0.0205       0.9932        0.0956  164.4674\n",
      "    192        0.0248       0.9927        0.0970  156.5537\n",
      "    193        0.0181       0.9938        0.0762  160.8636\n",
      "    194        0.0172       0.9928        0.0823  161.2404\n",
      "    195        0.0151       0.9918        0.0574  160.8854\n",
      "    196        0.0141       0.9922        0.1050  170.1305\n",
      "    197        0.0223       0.9932        0.0871  163.1011\n",
      "    198        0.0230       0.9924        0.0792  160.9688\n",
      "    199        0.0217       0.9932        0.0891  164.1200\n",
      "    200        0.0199       0.9930        0.0867  169.7208\n",
      "    201        0.0208       0.9927        0.0781  165.1194\n",
      "    202        0.0194       0.9923        0.0668  166.6680\n",
      "    203        0.0219       0.9926        0.0751  162.7267\n",
      "    204        0.0221       0.9926        0.1055  169.6262\n",
      "    205        0.0188       0.9930        0.0821  168.4280\n",
      "    206        0.0201       0.9923        0.0515  162.0182\n",
      "    207        0.0240       0.9922        0.0689  164.2753\n",
      "    208        0.0196       0.9928        0.0703  166.4223\n",
      "    209        0.0174       0.9928        0.0800  168.9173\n",
      "    210        0.0208       0.9928        0.1093  165.4610\n",
      "    211        0.0209       0.9927        0.1029  169.2744\n",
      "    212        0.0187       0.9921        0.0740  168.0534\n",
      "    213        0.0209       0.9908        0.0697  168.1002\n",
      "    214        0.0176       0.9928        0.0587  167.0016\n",
      "    215        0.0244       0.9932        0.0891  162.9932\n",
      "    216        0.0195       0.9918        0.0984  162.0258\n",
      "    217        0.0245       0.9924        0.0727  165.9911\n",
      "    218        0.0182       0.9932        0.0808  172.4552\n",
      "    219        0.0267       0.9928        0.0943  167.9879\n",
      "    220        0.0214       0.9924        0.0688  175.6778\n",
      "    221        0.0215       0.9926        0.0647  170.9542\n",
      "    222        0.0164       0.9917        0.1005  171.4465\n",
      "    223        0.0241       0.9922        0.1135  166.4193\n",
      "    224        0.0216       0.9929        0.0849  171.6938\n",
      "    225        0.0178       0.9936        0.0632  171.4025\n",
      "    226        0.0170       0.9930        0.1220  174.7156\n",
      "    227        0.0235       0.9930        0.0856  170.5182\n",
      "    228        0.0142       0.9941        0.0760  176.0881\n",
      "    229        0.0218       0.9930        0.1037  171.2324\n",
      "    230        0.0209       0.9926        0.0763  166.5027\n",
      "    231        0.0240       0.9934        0.1218  169.2730\n",
      "    232        0.0195       0.9918        0.0899  173.9213\n",
      "    233        0.0250       0.9924        0.0906  166.0121\n",
      "    234        0.0249       0.9926        0.0761  172.9454\n",
      "    235        0.0222       0.9932        0.0819  173.4139\n",
      "    236        0.0263       0.9925        0.1087  169.5427\n",
      "    237        0.0189       0.9921        0.0665  176.4609\n",
      "    238        0.0209       0.9924        0.1259  166.8422\n",
      "    239        0.0251       0.9928        0.0757  164.4758\n",
      "    240        0.0163       0.9919        0.0849  172.0272\n",
      "    241        0.0222       0.9919        0.0706  163.7970\n",
      "    242        0.0226       0.9927        0.0832  167.7116\n",
      "    243        0.0255       0.9928        0.0616  168.4682\n",
      "    244        0.0186       0.9906        0.1340  169.1589\n",
      "    245        0.0269       0.9918        0.0671  170.4547\n",
      "    246        0.0283       0.9927        0.0648  166.9606\n",
      "    247        0.0266       0.9932        0.0706  170.6726\n",
      "    248        0.0210       0.9925        0.0642  173.8103\n",
      "    249        0.0253       0.9920        0.0775  167.5257\n",
      "    250        0.0210       0.9923        0.0990  174.4414\n",
      "    251        0.0174       0.9928        0.1055  170.6388\n",
      "    252        0.0243       0.9917        0.1234  172.9592\n",
      "    253        0.0262       0.9931        0.1367  168.2010\n",
      "    254        0.0226       0.9921        0.0809  171.0815\n",
      "    255        0.0237       0.9919        0.1257  168.0560\n",
      "    256        0.0239       0.9922        0.0751  170.3854\n",
      "    257        0.0227       0.9921        0.1346  165.3096\n",
      "    258        0.0287       0.9918        0.1182  168.0687\n",
      "    259        0.0194       0.9923        0.1903  173.0076\n",
      "    260        0.0231       0.9934        0.0737  168.7484\n",
      "    261        0.0241       0.9936        0.1014  166.9804\n",
      "    262        0.0211       0.9931        0.0687  170.8787\n",
      "    263        0.0306       0.9928        0.1258  169.5868\n",
      "    264        0.0308       0.9923        0.1110  164.1210\n",
      "    265        0.0304       0.9925        0.1013  163.9175\n",
      "    266        0.0220       0.9941        0.0935  158.4526\n",
      "    267        0.0230       0.9927        0.1435  166.0044\n",
      "    268        0.0178       0.9931        0.1085  174.7709\n",
      "    269        0.0218       0.9931        0.1329  166.0225\n",
      "    270        0.0280       0.9922        0.1844  168.7637\n"
     ]
    },
    {
     "name": "stdout",
     "output_type": "stream",
     "text": [
      "    271        0.0292       0.9931        0.0800  166.8865\n",
      "    272        0.0219       0.9922        0.0892  165.7284\n",
      "    273        0.0241       0.9926        0.1446  172.2950\n",
      "    274        0.0252       0.9920        0.1170  169.5934\n",
      "    275        0.0260       0.9933        0.1335  171.8624\n",
      "    276        0.0206       0.9929        0.1132  173.2330\n",
      "    277        0.0217       0.9931        0.1573  173.0513\n",
      "    278        0.0213       0.9933        0.1143  169.7774\n",
      "    279        0.0210       0.9937        0.1308  167.3728\n",
      "    280        0.0217       0.9934        0.1468  170.1828\n",
      "    281        0.0259       0.9923        0.0703  167.4696\n",
      "    282        0.0227       0.9927        0.1117  169.0155\n",
      "    283        0.0215       0.9923        0.0868  163.5358\n",
      "    284        0.0195       0.9930        0.1157  168.7900\n",
      "    285        0.0241       0.9924        0.1332  168.5914\n",
      "    286        0.0259       0.9928        0.0896  166.6070\n",
      "    287        0.0220       0.9925        0.1821  166.5222\n",
      "    288        0.0235       0.9924        0.1024  169.9204\n",
      "    289        0.0226       0.9928        0.1655  167.6520\n",
      "    290        0.0234       0.9937        0.1244  173.2403\n",
      "    291        0.0238       0.9925        0.1349  186.7722\n",
      "    292        0.0250       0.9915        0.0774  183.3378\n",
      "    293        0.0211       0.9912        0.0698  186.2054\n",
      "    294        0.0275       0.9926        0.1768  182.6876\n",
      "    295        0.0268       0.9915        0.1550  172.3723\n",
      "    296        0.0223       0.9932        0.1229  168.1691\n",
      "    297        0.0260       0.9926        0.0947  173.9497\n",
      "    298        0.0210       0.9926        0.1256  182.0877\n",
      "    299        0.0279       0.9934        0.1054  175.2514\n",
      "    300        0.0209       0.9932        0.0815  170.9995\n",
      "    301        0.0248       0.9920        0.0940  173.0640\n",
      "    302        0.0225       0.9933        0.1076  173.9327\n",
      "    303        0.0244       0.9924        0.1109  183.8342\n",
      "    304        0.0217       0.9916        0.0764  180.6283\n",
      "    305        0.0248       0.9927        0.1444  182.3630\n",
      "    306        0.0214       0.9923        0.1316  178.7146\n",
      "    307        0.0255       0.9936        0.0982  185.3582\n",
      "    308        0.0279       0.9938        0.1194  185.8313\n",
      "    309        0.0258       0.9924        0.0905  181.7705\n",
      "    310        0.0238       0.9933        0.0718  178.2844\n",
      "    311        0.0256       0.9925        0.0773  183.0092\n",
      "    312        0.0229       0.9922        0.0992  182.1204\n",
      "    313        0.0261       0.9925        0.1085  179.1614\n",
      "    314        0.0255       0.9934        0.1349  185.5939\n",
      "    315        0.0311       0.9917        0.1020  176.7674\n",
      "    316        0.0748       0.9911        0.1296  170.3152\n",
      "    317        0.0468       0.9928        0.1170  165.3688\n",
      "    318        0.0235       0.9928        0.0633  178.5901\n",
      "    319        0.0278       0.9931        0.1110  179.4681\n",
      "    320        0.0230       0.9930        0.0972  180.3873\n",
      "    321        0.0281       0.9928        0.0954  171.4277\n",
      "    322        0.0212       0.9934        0.1303  172.3629\n",
      "    323        0.0227       0.9922        0.1009  166.7436\n",
      "    324        0.0237       0.9930        0.0889  168.4017\n",
      "    325        0.0215       0.9924        0.0879  174.8439\n",
      "    326        0.0281       0.9908        0.1282  175.0360\n",
      "    327        0.0242       0.9917        0.0643  168.8280\n",
      "    328        0.0259       0.9922        0.1474  171.5581\n",
      "    329        0.0260       0.9921        0.0905  170.5397\n",
      "    330        0.0246       0.9925        0.1154  172.9878\n",
      "    331        0.0362       0.9916        0.1631  167.6841\n",
      "    332        0.0310       0.9922        0.0964  172.4113\n",
      "    333        0.0225       0.9912        0.0992  174.5875\n",
      "    334        0.0272       0.9932        0.1401  170.8376\n",
      "    335        0.0268       0.9918        0.1353  171.5861\n",
      "    336        0.0211       0.9925        0.1557  178.2052\n",
      "    337        0.0266       0.9928        0.1029  168.2682\n",
      "    338        0.0238       0.9923        0.0837  168.9951\n",
      "    339        0.0270       0.9927        0.0920  175.8229\n",
      "    340        0.0218       0.9928        0.2325  171.8312\n",
      "    341        0.0267       0.9926        0.0914  174.6825\n",
      "    342        0.0264       0.9923        0.0823  171.3766\n",
      "    343        0.0353       0.9922        0.0680  165.9073\n",
      "    344        0.0253       0.9939        0.1750  169.6343\n",
      "    345        0.0277       0.9926        0.0861  180.1400\n",
      "    346        0.0311       0.9928        0.0894  166.3364\n",
      "    347        0.0176       0.9936        0.0864  173.1602\n",
      "    348        0.0245       0.9937        0.1312  181.0796\n",
      "    349        0.0243       0.9936        0.1386  185.4098\n",
      "    350        0.0308       0.9931        0.0996  171.3856\n",
      "    351        0.0305       0.9916        0.1425  163.7008\n",
      "    352        0.0305       0.9928        0.0703  164.1763\n",
      "    353        0.0226       0.9924        0.0958  162.7088\n",
      "    354        0.0225       0.9939        0.1220  163.7672\n",
      "    355        0.0342       0.9922        0.0764  166.2277\n",
      "    356        0.0281       0.9919        0.0744  162.7606\n",
      "    357        0.0313       0.9923        0.0979  169.4202\n",
      "    358        0.0288       0.9937        0.1084  171.6384\n",
      "    359        0.0284       0.9926        0.1381  162.9467\n",
      "    360        0.0293       0.9905        0.0724  173.9852\n",
      "    361        0.0283       0.9938        0.1045  165.7814\n",
      "    362        0.0254       0.9916        0.1126  169.3238\n",
      "    363        0.0264       0.9919        0.1043  162.9810\n",
      "    364        0.0283       0.9918        0.1311  169.1891\n",
      "    365        0.0384       0.9929        0.0807  172.8914\n",
      "    366        0.0318       0.9928        0.0877  167.5003\n",
      "    367        0.0227       0.9928        0.2227  170.8749\n",
      "    368        0.0385       0.9918        0.1588  165.7251\n",
      "    369        0.0251       0.9928        0.0835  165.4814\n",
      "    370        0.0339       0.9919        0.0801  171.6678\n",
      "    371        0.0421       0.9919        0.0727  155.6411\n",
      "    372        0.0235       0.9941        0.1452  162.0413\n",
      "    373        0.0279       0.9933        0.1018  158.4825\n",
      "    374        0.0246       0.9940        0.0997  159.6286\n",
      "    375        0.0267       0.9935        0.0863  161.5738\n",
      "    376        0.0333       0.9922        0.1286  183.5199\n",
      "    377        0.0245       0.9917        0.1166  178.7134\n",
      "    378        0.0227       0.9915        0.1408  166.3908\n",
      "    379        0.0392       0.9930        0.0871  166.9472\n",
      "    380        0.0292       0.9920        0.1198  177.2108\n",
      "    381        0.0341       0.9922        0.0497  169.2320\n",
      "    382        0.0274       0.9932        0.1141  165.0869\n",
      "    383        0.0259       0.9932        0.0913  163.5721\n",
      "    384        0.0310       0.9929        0.0851  166.7271\n",
      "    385        0.0324       0.9934        0.0763  167.2090\n",
      "    386        0.0334       0.9902        0.0915  173.8589\n",
      "    387        0.0271       0.9914        0.1098  176.5828\n",
      "    388        0.0290       0.9928        0.0965  163.9340\n",
      "    389        0.0340       0.9905        0.1172  159.2014\n",
      "    390        0.0291       0.9927        0.1452  165.7260\n",
      "    391        0.0322       0.9932        0.0661  171.2920\n",
      "    392        0.0302       0.9935        0.1223  166.3213\n",
      "    393        0.0322       0.9919        0.1260  166.8998\n",
      "    394        0.0330       0.9932        0.1012  161.9684\n",
      "    395        0.0313       0.9896        0.0593  161.4118\n",
      "    396        0.0281       0.9927        0.1354  161.8095\n",
      "    397        0.0324       0.9932        0.2315  157.4091\n",
      "    398        0.0314       0.9927        0.1111  159.3747\n",
      "    399        0.0262       0.9931        0.1058  158.9685\n",
      "    400        0.0478       0.9928        0.1443  161.0747\n",
      "    401        0.0298       0.9928        0.1067  171.6433\n",
      "    402        0.0257       0.9932        0.1367  170.3636\n",
      "    403        0.0309       0.9931        0.1422  170.1148\n",
      "    404        0.0260       0.9932        0.1012  170.7557\n",
      "    405        0.0272       0.9925        0.1479  167.4554\n",
      "    406        0.0296       0.9929        0.1312  166.4718\n",
      "    407        0.0233       0.9928        0.1518  174.1767\n",
      "    408        0.0366       0.9919        0.0716  162.7468\n",
      "    409        0.0333       0.9925        0.0739  161.7241\n"
     ]
    },
    {
     "name": "stdout",
     "output_type": "stream",
     "text": [
      "    410        0.0319       0.9937        0.0965  168.3475\n",
      "    411        0.0289       0.9926        0.1411  167.9679\n",
      "    412        0.0252       0.9922        0.1678  163.6310\n",
      "    413        0.0361       0.9927        0.0716  160.4149\n",
      "    414        0.0278       0.9903        0.0718  158.8142\n",
      "    415        0.0358       0.9923        0.1710  163.9203\n",
      "    416        0.0298       0.9923        0.1560  165.2902\n",
      "    417        0.0268       0.9922        0.0710  167.5070\n",
      "    418        0.0413       0.9925        0.0913  153.0003\n",
      "    419        0.0357       0.9919        0.1192  159.7027\n",
      "    420        0.0336       0.9911        0.0562  164.6874\n",
      "    421        0.0295       0.9923        0.0897  162.3263\n",
      "    422        0.0378       0.9930        0.0617  162.3287\n",
      "    423        0.0299       0.9922        0.1653  165.6047\n",
      "    424        0.0370       0.9928        0.1147  162.9608\n",
      "    425        0.0346       0.9922        0.1127  166.4209\n",
      "    426        0.0320       0.9922        0.1383  184.0868\n",
      "    427        0.0247       0.9938        0.1141  185.3216\n",
      "    428        0.0427       0.9915        0.0928  178.0690\n",
      "    429        0.0389       0.9927        0.1014  181.7137\n",
      "    430        0.0337       0.9935        0.1648  169.2759\n",
      "    431        0.0357       0.9922        0.0951  164.9874\n",
      "    432        0.0245       0.9934        0.0951  158.7517\n",
      "    433        0.0364       0.9922        0.1207  174.3994\n",
      "    434        0.0388       0.9925        0.2183  165.3364\n",
      "    435        0.0242       0.9936        0.1183  157.0345\n",
      "    436        0.0329       0.9906        0.0768  166.4897\n",
      "    437        0.0282       0.9936        0.1177  169.5881\n",
      "    438        0.0251       0.9932        0.1566  163.3782\n",
      "    439        0.0329       0.9925        0.1560  159.8853\n",
      "    440        0.0389       0.9914        0.1331  157.1349\n",
      "    441        0.0279       0.9930        0.1779  157.7706\n",
      "    442        0.0253       0.9928        0.1108  167.7703\n",
      "    443        0.0345       0.9922        0.1500  174.1512\n",
      "    444        0.0384       0.9932        0.1483  167.9153\n",
      "    445        0.0265       0.9932        0.1152  195.4099\n",
      "    446        0.0366       0.9933        0.1396  164.6418\n",
      "    447        0.0385       0.9930        0.1215  170.2322\n",
      "    448        0.0428       0.9932        0.1518  174.9715\n",
      "    449        0.0371       0.9918        0.1115  177.5642\n",
      "    450        0.0290       0.9939        0.1076  166.5301\n",
      "    451        0.0296       0.9933        0.1260  168.4503\n",
      "    452        0.0377       0.9940        0.0868  165.2408\n",
      "    453        0.0282       0.9927        0.1094  167.6205\n",
      "    454        0.0412       0.9922        0.1095  161.8109\n",
      "    455        0.0322       0.9922        0.1057  171.8423\n",
      "    456        0.0420       0.9928        0.2140  173.1065\n",
      "    457        0.0289       0.9930        0.2162  180.8070\n",
      "    458        0.0351       0.9928        0.0920  174.3987\n",
      "    459        0.0444       0.9922        0.1543  183.9180\n",
      "    460        0.0423       0.9934        0.1606  172.3516\n",
      "    461        0.0295       0.9926        0.0968  177.4431\n",
      "    462        0.0291       0.9925        0.2362  175.6851\n",
      "    463        0.0390       0.9927        0.1054  162.7314\n",
      "    464        0.0326       0.9928        0.1028  164.5115\n",
      "    465        0.0344       0.9922        0.0949  174.8738\n",
      "    466        0.0322       0.9913        0.1438  173.0548\n",
      "    467        0.0292       0.9928        0.1728  160.5167\n",
      "    468        0.0388       0.9919        0.1462  155.6960\n",
      "    469        0.0327       0.9933        0.1323  171.5844\n",
      "    470        0.0292       0.9932        0.1485  175.4511\n",
      "    471        0.0426       0.9922        0.1218  174.2860\n",
      "    472        0.0433       0.9928        0.2081  177.5562\n",
      "    473        0.0332       0.9928        0.1468  182.4449\n",
      "    474        0.0316       0.9921        0.0878  176.9906\n",
      "    475        0.0408       0.9930        0.1617  179.8452\n",
      "    476        0.0352       0.9932        0.1148  183.2312\n",
      "    477        0.0317       0.9936        0.1639  171.5954\n",
      "    478        0.0446       0.9930        0.1684  173.2603\n",
      "    479        0.0324       0.9917        0.1756  174.3742\n",
      "    480        0.0409       0.9932        0.1769  170.3452\n",
      "    481        0.0330       0.9935        0.1121  170.0854\n",
      "    482        0.0307       0.9926        0.1268  175.6837\n",
      "    483        0.0335       0.9934        0.1141  161.9819\n",
      "    484        0.0367       0.9913        0.1080  155.5954\n",
      "    485        0.0385       0.9912        0.0634  154.1016\n",
      "    486        0.0349       0.9921        0.1324  154.9943\n",
      "    487        0.0422       0.9931        0.0766  156.8726\n",
      "    488        0.0381       0.9922        0.0629  155.0857\n",
      "    489        0.0337       0.9933        0.1610  181.1257\n",
      "    490        0.0385       0.9920        0.1339  189.9411\n",
      "    491        0.0287       0.9928        0.1278  191.4395\n",
      "    492        0.0297       0.9917        0.0937  189.2912\n",
      "    493        0.0413       0.9939        0.1286  189.6704\n",
      "    494        0.0434       0.9936        0.1027  196.4793\n",
      "    495        0.0366       0.9918        0.0826  185.5686\n",
      "    496        0.0375       0.9928        0.2263  196.3683\n",
      "    497        0.0345       0.9928        0.1262  201.7251\n",
      "    498        0.0285       0.9918        0.1075  199.1442\n",
      "    499        0.0279       0.9925        0.2779  199.6191\n",
      "    500        0.0449       0.9930        0.1566  203.5219\n"
     ]
    }
   ],
   "source": [
    "cnv_filename = 'cnv.pkl'\n",
    "checkpoints.append(cnv_filename)\n",
    "try:\n",
    "    with open(cnv_filename, 'rb') as fp:\n",
    "        cnv_pipe = pkl.load(fp)\n",
    "except FileNotFoundError:\n",
    "    init_f(cnv_net.module_)\n",
    "    torch.manual_seed(RANDOM_STATE)\n",
    "    cnv_pipe.fit(tX_train, ty_train)\n",
    "    with open(cnv_filename, 'wb') as fp:\n",
    "        pkl.dump(cnv_pipe, fp)"
   ]
  },
  {
   "cell_type": "code",
   "execution_count": 35,
   "metadata": {},
   "outputs": [
    {
     "data": {
      "text/plain": [
       "(0.9984833333333333, 0.995)"
      ]
     },
     "execution_count": 35,
     "metadata": {},
     "output_type": "execute_result"
    }
   ],
   "source": [
    "cnv_pipe.score(tX_train, ty_train), cnv_pipe.score(tX_test, ty_test)"
   ]
  },
  {
   "cell_type": "markdown",
   "metadata": {
    "id": "FGdXdGqrcsbP"
   },
   "source": [
    "# 8. Comparativa de métricas y matrices de confusión entre todos los modelos entrenados de ML y DL. (1 punto)\n",
    "\n",
    "El objetivo de esta sección es comparar los resultados obtenidos entre los distintos modelos (ML, NN, CNN). \n",
    "\n",
    "En particular:\n",
    "- Mostrar la matriz de confusión para cada modelo.\n",
    "- Elegir y dibujar algunas métricas adicionales. \n",
    "- Describir las conclusiones."
   ]
  },
  {
   "cell_type": "code",
   "execution_count": 271,
   "metadata": {
    "id": "PoZPRtMmcsbP"
   },
   "outputs": [
    {
     "data": {
      "image/png": "[encoded data removed]",
      "text/plain": [
       "<Figure size 864x864 with 2 Axes>"
      ]
     },
     "metadata": {
      "needs_background": "light"
     },
     "output_type": "display_data"
    },
    {
     "name": "stdout",
     "output_type": "stream",
     "text": [
      "              precision    recall  f1-score   support\n",
      "\n",
      "           0     0.9909    0.9949    0.9929       980\n",
      "           1     0.9852    0.9982    0.9917      1135\n",
      "           2     0.9874    0.9903    0.9889      1032\n",
      "           3     0.9871    0.9881    0.9876      1010\n",
      "           4     0.9888    0.9888    0.9888       982\n",
      "           5     0.9888    0.9865    0.9877       892\n",
      "           6     0.9937    0.9875    0.9906       958\n",
      "           7     0.9863    0.9825    0.9844      1028\n",
      "           8     0.9867    0.9877    0.9872       974\n",
      "           9     0.9840    0.9722    0.9781      1009\n",
      "\n",
      "    accuracy                         0.9878     10000\n",
      "   macro avg     0.9879    0.9877    0.9878     10000\n",
      "weighted avg     0.9878    0.9878    0.9878     10000\n",
      "\n"
     ]
    },
    {
     "data": {
      "image/png": "[encoded data removed]",
      "text/plain": [
       "<Figure size 864x864 with 2 Axes>"
      ]
     },
     "metadata": {
      "needs_background": "light"
     },
     "output_type": "display_data"
    },
    {
     "name": "stdout",
     "output_type": "stream",
     "text": [
      "              precision    recall  f1-score   support\n",
      "\n",
      "           0     0.9768    0.9867    0.9817       980\n",
      "           1     0.9773    0.9859    0.9816      1135\n",
      "           2     0.9730    0.9438    0.9582      1032\n",
      "           3     0.9680    0.9584    0.9632      1010\n",
      "           4     0.9637    0.9450    0.9542       982\n",
      "           5     0.9587    0.9630    0.9609       892\n",
      "           6     0.9717    0.9676    0.9697       958\n",
      "           7     0.9679    0.9397    0.9536      1028\n",
      "           8     0.9295    0.9610    0.9450       974\n",
      "           9     0.9216    0.9554    0.9382      1009\n",
      "\n",
      "    accuracy                         0.9608     10000\n",
      "   macro avg     0.9608    0.9607    0.9606     10000\n",
      "weighted avg     0.9611    0.9608    0.9608     10000\n",
      "\n"
     ]
    },
    {
     "data": {
      "image/png": "[encoded data removed]",
      "text/plain": [
       "<Figure size 864x864 with 2 Axes>"
      ]
     },
     "metadata": {
      "needs_background": "light"
     },
     "output_type": "display_data"
    },
    {
     "name": "stdout",
     "output_type": "stream",
     "text": [
      "              precision    recall  f1-score   support\n",
      "\n",
      "           0     0.9909    0.9990    0.9949       980\n",
      "           1     0.9921    1.0000    0.9961      1135\n",
      "           2     0.9981    0.9952    0.9966      1032\n",
      "           3     0.9950    0.9950    0.9950      1010\n",
      "           4     0.9959    0.9939    0.9949       982\n",
      "           5     0.9944    0.9910    0.9927       892\n",
      "           6     0.9989    0.9916    0.9953       958\n",
      "           7     0.9971    0.9971    0.9971      1028\n",
      "           8     0.9959    0.9949    0.9954       974\n",
      "           9     0.9921    0.9911    0.9916      1009\n",
      "\n",
      "    accuracy                         0.9950     10000\n",
      "   macro avg     0.9950    0.9949    0.9950     10000\n",
      "weighted avg     0.9950    0.9950    0.9950     10000\n",
      "\n"
     ]
    }
   ],
   "source": [
    "best_models = [(x, name) for x, name in [(ml_gs.best_estimator_, 'ml'), (mlp_pipe, 'mlp'), (cnv_pipe, 'cnv')]]\n",
    "\n",
    "for estimator, name in best_models:\n",
    "    y_hat = estimator.predict(tX_test)\n",
    "    cf_matrix = confusion_matrix(ty_test, y_hat)\n",
    "    sns.heatmap(cf_matrix, annot=True)\n",
    "    plt.title(name)\n",
    "    plt.show()\n",
    "    print(classification_report(ty_test, y_hat, digits=4))"
   ]
  },
  {
   "cell_type": "markdown",
   "metadata": {},
   "source": [
    "### Conclusiones"
   ]
  },
  {
   "cell_type": "markdown",
   "metadata": {},
   "source": [
    "El mejor modelo sería la red neuronal convolucional, pero les sigue muy de cerca la máquina de soporte vectorial. Cabe que destacar que me ha sido muy difícil entrenar la CNN debido a los grandes recursos computacionales que requiere, los cuales provocaban leaks continuos de memoria. Este hecho me llevado a plantear que en realidad dependiendo de los recursos que se posean y el threshold de accuracy definido quizás es mejor obtar por un modelo de ML en vez de una CNN"
   ]
  },
  {
   "cell_type": "markdown",
   "metadata": {
    "id": "N6TIevY_csbP"
   },
   "source": [
    "# 9. Comparativa de la robustez de los distintos modelos entrenados frente a la translación horizontal de los dígitos. (0,5 puntos)\n",
    "\n",
    "El objetivo de esta sección es:\n",
    "- Probar el rendimiento de los modelos entrenados sobre distintas transformaciones del set de testing (por ejemplo, sobre translaciones horizontales como se mostró en las sesiones de este módulo).\n",
    "- Dibujar las gráficas correspondientes de acierto frente a la magnitud de la transformación (por ej. cantidad de píxeles desplazados).\n",
    "- Describir las conclusiones."
   ]
  },
  {
   "cell_type": "code",
   "execution_count": 48,
   "metadata": {
    "id": "MtPsFBsrcsbP"
   },
   "outputs": [
    {
     "data": {
      "text/plain": [
       "torch.Size([10000, 28, 28])"
      ]
     },
     "execution_count": 48,
     "metadata": {},
     "output_type": "execute_result"
    }
   ],
   "source": [
    "tr_W = np.array(list(range(-50, 50, 5)))\n",
    "X_test_Ws = [np.roll(tX_test, i, axis=2) for i in tr_W]\n",
    "tX_test_Ws = [torch.from_numpy(x) for x in X_test_Ws]\n",
    "tX_test_Ws[0].shape"
   ]
  },
  {
   "cell_type": "code",
   "execution_count": 49,
   "metadata": {
    "id": "MtPsFBsrcsbP"
   },
   "outputs": [
    {
     "data": {
      "image/png": "[encoded data removed]",
      "text/plain": [
       "<Figure size 864x864 with 20 Axes>"
      ]
     },
     "metadata": {
      "needs_background": "light"
     },
     "output_type": "display_data"
    }
   ],
   "source": [
    "im = io.imshow_collection([xi[0,:,:] for xi in tX_test_Ws])"
   ]
  },
  {
   "cell_type": "code",
   "execution_count": 50,
   "metadata": {
    "id": "MtPsFBsrcsbP"
   },
   "outputs": [],
   "source": [
    "ml_scores = []\n",
    "mlp_scores = []\n",
    "cnv_scores = []\n",
    "\n",
    "for translation in tX_test_Ws:\n",
    "    ml_scores.append(ml_gs.score(translation, ty_test))\n",
    "    mlp_scores.append(mlp_pipe.score(translation, ty_test))\n",
    "    cnv_scores.append(cnv_pipe.score(translation, ty_test))\n",
    "\n",
    "\n",
    "all_scores = pd.DataFrame(data={\n",
    "    'ml': ml_scores,\n",
    "    'mlp': mlp_scores,\n",
    "    'cnv': cnv_scores\n",
    "}, index=tr_W)"
   ]
  },
  {
   "cell_type": "code",
   "execution_count": 51,
   "metadata": {
    "id": "MtPsFBsrcsbP"
   },
   "outputs": [
    {
     "data": {
      "text/plain": [
       "<AxesSubplot:>"
      ]
     },
     "execution_count": 51,
     "metadata": {},
     "output_type": "execute_result"
    },
    {
     "data": {
      "image/png": "[encoded data removed]",
      "text/plain": [
       "<Figure size 864x864 with 1 Axes>"
      ]
     },
     "metadata": {
      "needs_background": "light"
     },
     "output_type": "display_data"
    }
   ],
   "source": [
    "all_scores.plot(colormap='Set1')"
   ]
  },
  {
   "cell_type": "code",
   "execution_count": 52,
   "metadata": {},
   "outputs": [
    {
     "data": {
      "text/html": [
       "<div>\n",
       "<style scoped>\n",
       "    .dataframe tbody tr th:only-of-type {\n",
       "        vertical-align: middle;\n",
       "    }\n",
       "\n",
       "    .dataframe tbody tr th {\n",
       "        vertical-align: top;\n",
       "    }\n",
       "\n",
       "    .dataframe thead th {\n",
       "        text-align: right;\n",
       "    }\n",
       "</style>\n",
       "<table border=\"1\" class=\"dataframe\">\n",
       "  <thead>\n",
       "    <tr style=\"text-align: right;\">\n",
       "      <th></th>\n",
       "      <th>ml</th>\n",
       "      <th>mlp</th>\n",
       "      <th>cnv</th>\n",
       "    </tr>\n",
       "  </thead>\n",
       "  <tbody>\n",
       "    <tr>\n",
       "      <th>count</th>\n",
       "      <td>20.000000</td>\n",
       "      <td>20.000000</td>\n",
       "      <td>20.000000</td>\n",
       "    </tr>\n",
       "    <tr>\n",
       "      <th>mean</th>\n",
       "      <td>0.352715</td>\n",
       "      <td>0.280555</td>\n",
       "      <td>0.439770</td>\n",
       "    </tr>\n",
       "    <tr>\n",
       "      <th>std</th>\n",
       "      <td>0.342380</td>\n",
       "      <td>0.260020</td>\n",
       "      <td>0.374789</td>\n",
       "    </tr>\n",
       "    <tr>\n",
       "      <th>min</th>\n",
       "      <td>0.084600</td>\n",
       "      <td>0.085200</td>\n",
       "      <td>0.061400</td>\n",
       "    </tr>\n",
       "    <tr>\n",
       "      <th>25%</th>\n",
       "      <td>0.095700</td>\n",
       "      <td>0.117750</td>\n",
       "      <td>0.104975</td>\n",
       "    </tr>\n",
       "    <tr>\n",
       "      <th>50%</th>\n",
       "      <td>0.170500</td>\n",
       "      <td>0.174450</td>\n",
       "      <td>0.293100</td>\n",
       "    </tr>\n",
       "    <tr>\n",
       "      <th>75%</th>\n",
       "      <td>0.521600</td>\n",
       "      <td>0.290950</td>\n",
       "      <td>0.791075</td>\n",
       "    </tr>\n",
       "    <tr>\n",
       "      <th>max</th>\n",
       "      <td>0.987800</td>\n",
       "      <td>0.960800</td>\n",
       "      <td>0.994300</td>\n",
       "    </tr>\n",
       "  </tbody>\n",
       "</table>\n",
       "</div>"
      ],
      "text/plain": [
       "              ml        mlp        cnv\n",
       "count  20.000000  20.000000  20.000000\n",
       "mean    0.352715   0.280555   0.439770\n",
       "std     0.342380   0.260020   0.374789\n",
       "min     0.084600   0.085200   0.061400\n",
       "25%     0.095700   0.117750   0.104975\n",
       "50%     0.170500   0.174450   0.293100\n",
       "75%     0.521600   0.290950   0.791075\n",
       "max     0.987800   0.960800   0.994300"
      ]
     },
     "execution_count": 52,
     "metadata": {},
     "output_type": "execute_result"
    }
   ],
   "source": [
    "all_scores.describe()"
   ]
  },
  {
   "cell_type": "markdown",
   "metadata": {},
   "source": [
    "#### Conclusiones "
   ]
  },
  {
   "cell_type": "markdown",
   "metadata": {},
   "source": [
    "El modelo más robusto a las translaciones es sin duda la red convolucional con un promedio de 0.44 de $accuracy$. Como es normal, en las translaciones en las que el número queda divido en ambos lados de la imagen la accuracy caen notablemente en todos los modelos."
   ]
  },
  {
   "cell_type": "markdown",
   "metadata": {
    "id": "a-kndu2ccsbQ"
   },
   "source": [
    "# 10. Desarrollo de una función de preprocesado / reescalado para input al modelo, y exportación del modelo escogido. (0,5 puntos)\n",
    "\n",
    "\n",
    "El objetiivo de esta sección es el de preparar el modelo para su despliegue en la Parte II de la práctica.\n",
    "\n",
    "Para ello, habrá que:\n",
    "- Seleccionar el mejor modelo entre los probados (típicamente, debería ser la CNN).\n",
    "- Construir una función de preprocesado (o una pipeline de scikit-learn, o equivale) que transforme una imágen genérica en algo consumible por el modelo, replicando también las transformaciones hechas durante el entrenamiento.\n",
    "- Exportar el modelo y la pipeline en un formato importable desde una aplicación python, como por ejemplo un fichero “.pt” (pytorch) con los pesos de la red neuronal, o una de la pipeline entera a un fichero “.pkl” (pickle).\n"
   ]
  },
  {
   "cell_type": "markdown",
   "metadata": {},
   "source": [
    "Previamente a la exportación del modelo lo entrenaremos con los datos de testing y las translaciones"
   ]
  },
  {
   "cell_type": "code",
   "execution_count": 362,
   "metadata": {
    "id": "-ViuyRe0csbQ"
   },
   "outputs": [
    {
     "data": {
      "text/plain": [
       "Pipeline(steps=[('scaler', Scaler()), ('ocbw', OneChannel()),\n",
       "                ('net',\n",
       "                 <class 'skorch.classifier.NeuralNetClassifier'>[initialized](\n",
       "  module_=NNetModule(\n",
       "    (network): Sequential(\n",
       "      (0): Conv2d(1, 32, kernel_size=(3, 3), stride=(1, 1), padding=(1, 1))\n",
       "      (1): LeakyReLU(negative_slope=0.01)\n",
       "      (2): Conv2d(32, 64, kernel_size=(3, 3), stride=(1, 1), padding=(1, 1))\n",
       "      (3): MaxPool2d(kernel_size=2,...\n",
       "      (8): Flatten(start_dim=1, end_dim=-1)\n",
       "      (9): Dropout(p=0.5, inplace=False)\n",
       "      (10): Linear(in_features=6272, out_features=128, bias=True)\n",
       "      (11): LeakyReLU(negative_slope=0.01)\n",
       "      (12): Dropout(p=0.5, inplace=False)\n",
       "      (13): Linear(in_features=128, out_features=64, bias=True)\n",
       "      (14): Dropout(p=0.5, inplace=False)\n",
       "      (15): Linear(in_features=64, out_features=10, bias=True)\n",
       "      (16): LogSoftmax(dim=1)\n",
       "    )\n",
       "  ),\n",
       "))])"
      ]
     },
     "execution_count": 362,
     "metadata": {},
     "output_type": "execute_result"
    }
   ],
   "source": [
    "cnv_pipe.fit(tX_test, ty_test)"
   ]
  },
  {
   "cell_type": "code",
   "execution_count": 327,
   "metadata": {},
   "outputs": [
    {
     "data": {
      "text/plain": [
       "(0.9944166666666666, 0.9982)"
      ]
     },
     "execution_count": 327,
     "metadata": {},
     "output_type": "execute_result"
    }
   ],
   "source": [
    "cnv_pipe.score(tX_train, ty_train), cnv_pipe.score(tX_test, ty_test)"
   ]
  },
  {
   "cell_type": "code",
   "execution_count": 380,
   "metadata": {},
   "outputs": [],
   "source": [
    "class Preprocess(TransformerMixin, BaseEstimator):\n",
    "    \n",
    "    def fit(self, X, y=None, **fit_params):\n",
    "        return self\n",
    "    \n",
    "    def transform(self, X):\n",
    "        desired_size = 28\n",
    "        im = X.convert('L')\n",
    "        old_size = im.size\n",
    "        ratio = float(desired_size)/max(old_size)\n",
    "        new_size = tuple([int(x*ratio) for x in old_size])\n",
    "        height = width = (desired_size-new_size[0]) // 2\n",
    "        \n",
    "        im = im.resize(new_size)\n",
    "        \n",
    "        new_im = Image.new(\"L\", (desired_size, desired_size), color='white')\n",
    "        new_im.paste(im, (height, width))\n",
    "\n",
    "        return torch.from_numpy(np.array(new_im)).reshape(1, 28, 28).float()"
   ]
  },
  {
   "cell_type": "code",
   "execution_count": 364,
   "metadata": {},
   "outputs": [],
   "source": [
    "final_pipe = deepcopy(cnv_pipe)\n",
    "final_pipe.steps.insert(0,['preprocessing', Preprocess()])"
   ]
  },
  {
   "cell_type": "code",
   "execution_count": 370,
   "metadata": {},
   "outputs": [
    {
     "data": {
      "text/plain": [
       "[['preprocessing', Preprocess()],\n",
       " ('scaler', Scaler()),\n",
       " ('unsquezze', Unsqueeze()),\n",
       " ('net',\n",
       "  <class 'skorch.classifier.NeuralNetClassifier'>[initialized](\n",
       "    module_=NNetModule(\n",
       "      (network): Sequential(\n",
       "        (0): Conv2d(1, 32, kernel_size=(3, 3), stride=(1, 1), padding=(1, 1))\n",
       "        (1): LeakyReLU(negative_slope=0.01)\n",
       "        (2): Conv2d(32, 64, kernel_size=(3, 3), stride=(1, 1), padding=(1, 1))\n",
       "        (3): MaxPool2d(kernel_size=2, stride=2, padding=0, dilation=1, ceil_mode=False)\n",
       "        (4): LeakyReLU(negative_slope=0.01)\n",
       "        (5): Conv2d(64, 128, kernel_size=(3, 3), stride=(1, 1), padding=(1, 1))\n",
       "        (6): MaxPool2d(kernel_size=2, stride=2, padding=0, dilation=1, ceil_mode=False)\n",
       "        (7): LeakyReLU(negative_slope=0.01)\n",
       "        (8): Flatten(start_dim=1, end_dim=-1)\n",
       "        (9): Dropout(p=0.5, inplace=False)\n",
       "        (10): Linear(in_features=6272, out_features=128, bias=True)\n",
       "        (11): LeakyReLU(negative_slope=0.01)\n",
       "        (12): Dropout(p=0.5, inplace=False)\n",
       "        (13): Linear(in_features=128, out_features=64, bias=True)\n",
       "        (14): Dropout(p=0.5, inplace=False)\n",
       "        (15): Linear(in_features=64, out_features=10, bias=True)\n",
       "        (16): LogSoftmax(dim=1)\n",
       "      )\n",
       "    ),\n",
       "  ))]"
      ]
     },
     "execution_count": 370,
     "metadata": {},
     "output_type": "execute_result"
    }
   ],
   "source": [
    "final_pipe.steps"
   ]
  },
  {
   "cell_type": "markdown",
   "metadata": {},
   "source": [
    "Vamos a probar el pipeline con la función de pre-procesado"
   ]
  },
  {
   "cell_type": "code",
   "execution_count": 371,
   "metadata": {},
   "outputs": [
    {
     "data": {
      "image/png": "[encoded data removed]",
      "text/plain": [
       "<PIL.Image.Image image mode=L size=28x28 at 0x7F38E2F0F790>"
      ]
     },
     "execution_count": 371,
     "metadata": {},
     "output_type": "execute_result"
    }
   ],
   "source": [
    "img = Image.fromarray(np.uint8(X_test[30]))\n",
    "img"
   ]
  },
  {
   "cell_type": "code",
   "execution_count": 372,
   "metadata": {},
   "outputs": [
    {
     "data": {
      "text/plain": [
       "array([3])"
      ]
     },
     "execution_count": 372,
     "metadata": {},
     "output_type": "execute_result"
    }
   ],
   "source": [
    "final_pipe.predict(img)"
   ]
  },
  {
   "cell_type": "code",
   "execution_count": 360,
   "metadata": {
    "id": "-ViuyRe0csbQ"
   },
   "outputs": [],
   "source": [
    "with open('pipeline.pkl', 'wb') as fp:\n",
    "    pkl.dump(final_pipe, fp)"
   ]
  },
  {
   "cell_type": "code",
   "execution_count": 361,
   "metadata": {},
   "outputs": [],
   "source": [
    "for checkpoint in checkpoints:\n",
    "    os.remove(checkpoint)\n",
    "checkpoints = []"
   ]
  },
  {
   "cell_type": "markdown",
   "metadata": {},
   "source": [
    "#### Bibliografía\n",
    "\n",
    "https://scikit-learn.org/stable/modules/classes.html\n",
    "\n",
    "https://pytorch.org/docs/stable/index.html\n",
    "\n",
    "https://skorch.readthedocs.io/en/stable/\n",
    "\n",
    "https://pandas.pydata.org/docs/reference/index.html\n",
    "\n",
    "https://numpy.org/doc/stable/reference/index.html"
   ]
  }
 ],
 "metadata": {
  "colab": {
   "collapsed_sections": [],
   "name": "guia_proyecto.ipynb",
   "provenance": [],
   "toc_visible": true
  },
  "kernelspec": {
   "display_name": "ue_master",
   "language": "python",
   "name": "ue_master"
  },
  "language_info": {
   "codemirror_mode": {
    "name": "ipython",
    "version": 3
   },
   "file_extension": ".py",
   "mimetype": "text/x-python",
   "name": "python",
   "nbconvert_exporter": "python",
   "pygments_lexer": "ipython3",
   "version": "3.8.9"
  },
  "widgets": {
   "application/vnd.jupyter.widget-state+json": {
    "1b2be8cfae8547918a9bbeb3bdb3b1d7": {
     "model_module": "@jupyter-widgets/base",
     "model_name": "LayoutModel",
     "state": {
      "_model_module": "@jupyter-widgets/base",
      "_model_module_version": "1.2.0",
      "_model_name": "LayoutModel",
      "_view_count": null,
      "_view_module": "@jupyter-widgets/base",
      "_view_module_version": "1.2.0",
      "_view_name": "LayoutView",
      "align_content": null,
      "align_items": null,
      "align_self": null,
      "border": null,
      "bottom": null,
      "display": null,
      "flex": null,
      "flex_flow": null,
      "grid_area": null,
      "grid_auto_columns": null,
      "grid_auto_flow": null,
      "grid_auto_rows": null,
      "grid_column": null,
      "grid_gap": null,
      "grid_row": null,
      "grid_template_areas": null,
      "grid_template_columns": null,
      "grid_template_rows": null,
      "height": null,
      "justify_content": null,
      "justify_items": null,
      "left": null,
      "margin": null,
      "max_height": null,
      "max_width": null,
      "min_height": null,
      "min_width": null,
      "object_fit": null,
      "object_position": null,
      "order": null,
      "overflow": null,
      "overflow_x": null,
      "overflow_y": null,
      "padding": null,
      "right": null,
      "top": null,
      "visibility": null,
      "width": null
     }
    },
    "2cc1bd102ecd4d0db8409bc7b60a7cd4": {
     "model_module": "@jupyter-widgets/controls",
     "model_name": "HTMLModel",
     "state": {
      "_dom_classes": [],
      "_model_module": "@jupyter-widgets/controls",
      "_model_module_version": "1.5.0",
      "_model_name": "HTMLModel",
      "_view_count": null,
      "_view_module": "@jupyter-widgets/controls",
      "_view_module_version": "1.5.0",
      "_view_name": "HTMLView",
      "description": "",
      "description_tooltip": null,
      "layout": "IPY_MODEL_1b2be8cfae8547918a9bbeb3bdb3b1d7",
      "placeholder": "​",
      "style": "IPY_MODEL_79df3fcf729e4561b95e5ff57fdfc899",
      "value": " 3/3 [02:15&lt;00:00, 45.02s/it]"
     }
    },
    "40bd6d30d4df4b4badde80f2bbac884b": {
     "model_module": "@jupyter-widgets/base",
     "model_name": "LayoutModel",
     "state": {
      "_model_module": "@jupyter-widgets/base",
      "_model_module_version": "1.2.0",
      "_model_name": "LayoutModel",
      "_view_count": null,
      "_view_module": "@jupyter-widgets/base",
      "_view_module_version": "1.2.0",
      "_view_name": "LayoutView",
      "align_content": null,
      "align_items": null,
      "align_self": null,
      "border": null,
      "bottom": null,
      "display": null,
      "flex": null,
      "flex_flow": null,
      "grid_area": null,
      "grid_auto_columns": null,
      "grid_auto_flow": null,
      "grid_auto_rows": null,
      "grid_column": null,
      "grid_gap": null,
      "grid_row": null,
      "grid_template_areas": null,
      "grid_template_columns": null,
      "grid_template_rows": null,
      "height": null,
      "justify_content": null,
      "justify_items": null,
      "left": null,
      "margin": null,
      "max_height": null,
      "max_width": null,
      "min_height": null,
      "min_width": null,
      "object_fit": null,
      "object_position": null,
      "order": null,
      "overflow": null,
      "overflow_x": null,
      "overflow_y": null,
      "padding": null,
      "right": null,
      "top": null,
      "visibility": null,
      "width": null
     }
    },
    "607873867b224e59a0758928b83cae43": {
     "model_module": "@jupyter-widgets/base",
     "model_name": "LayoutModel",
     "state": {
      "_model_module": "@jupyter-widgets/base",
      "_model_module_version": "1.2.0",
      "_model_name": "LayoutModel",
      "_view_count": null,
      "_view_module": "@jupyter-widgets/base",
      "_view_module_version": "1.2.0",
      "_view_name": "LayoutView",
      "align_content": null,
      "align_items": null,
      "align_self": null,
      "border": null,
      "bottom": null,
      "display": null,
      "flex": null,
      "flex_flow": null,
      "grid_area": null,
      "grid_auto_columns": null,
      "grid_auto_flow": null,
      "grid_auto_rows": null,
      "grid_column": null,
      "grid_gap": null,
      "grid_row": null,
      "grid_template_areas": null,
      "grid_template_columns": null,
      "grid_template_rows": null,
      "height": null,
      "justify_content": null,
      "justify_items": null,
      "left": null,
      "margin": null,
      "max_height": null,
      "max_width": null,
      "min_height": null,
      "min_width": null,
      "object_fit": null,
      "object_position": null,
      "order": null,
      "overflow": null,
      "overflow_x": null,
      "overflow_y": null,
      "padding": null,
      "right": null,
      "top": null,
      "visibility": null,
      "width": null
     }
    },
    "79df3fcf729e4561b95e5ff57fdfc899": {
     "model_module": "@jupyter-widgets/controls",
     "model_name": "DescriptionStyleModel",
     "state": {
      "_model_module": "@jupyter-widgets/controls",
      "_model_module_version": "1.5.0",
      "_model_name": "DescriptionStyleModel",
      "_view_count": null,
      "_view_module": "@jupyter-widgets/base",
      "_view_module_version": "1.2.0",
      "_view_name": "StyleView",
      "description_width": ""
     }
    },
    "87e9996541554084adf097ad4ca96f46": {
     "model_module": "@jupyter-widgets/controls",
     "model_name": "FloatProgressModel",
     "state": {
      "_dom_classes": [],
      "_model_module": "@jupyter-widgets/controls",
      "_model_module_version": "1.5.0",
      "_model_name": "FloatProgressModel",
      "_view_count": null,
      "_view_module": "@jupyter-widgets/controls",
      "_view_module_version": "1.5.0",
      "_view_name": "ProgressView",
      "bar_style": "success",
      "description": "100%",
      "description_tooltip": null,
      "layout": "IPY_MODEL_40bd6d30d4df4b4badde80f2bbac884b",
      "max": 3,
      "min": 0,
      "orientation": "horizontal",
      "style": "IPY_MODEL_90fb63742ab64db2865144c56330183b",
      "value": 3
     }
    },
    "902f54902f3644baae58510a3a83d2eb": {
     "model_module": "@jupyter-widgets/controls",
     "model_name": "HBoxModel",
     "state": {
      "_dom_classes": [],
      "_model_module": "@jupyter-widgets/controls",
      "_model_module_version": "1.5.0",
      "_model_name": "HBoxModel",
      "_view_count": null,
      "_view_module": "@jupyter-widgets/controls",
      "_view_module_version": "1.5.0",
      "_view_name": "HBoxView",
      "box_style": "",
      "children": [
       "IPY_MODEL_87e9996541554084adf097ad4ca96f46",
       "IPY_MODEL_2cc1bd102ecd4d0db8409bc7b60a7cd4"
      ],
      "layout": "IPY_MODEL_607873867b224e59a0758928b83cae43"
     }
    },
    "90fb63742ab64db2865144c56330183b": {
     "model_module": "@jupyter-widgets/controls",
     "model_name": "ProgressStyleModel",
     "state": {
      "_model_module": "@jupyter-widgets/controls",
      "_model_module_version": "1.5.0",
      "_model_name": "ProgressStyleModel",
      "_view_count": null,
      "_view_module": "@jupyter-widgets/base",
      "_view_module_version": "1.2.0",
      "_view_name": "StyleView",
      "bar_color": null,
      "description_width": "initial"
     }
    }
   }
  }
 },
 "nbformat": 4,
 "nbformat_minor": 1
}
